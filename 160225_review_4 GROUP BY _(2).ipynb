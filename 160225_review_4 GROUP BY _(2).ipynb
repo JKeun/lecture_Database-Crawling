{
 "cells": [
  {
   "cell_type": "markdown",
   "metadata": {},
   "source": [
    "# GROUP BY\n",
    "* 월별 총 결제수 / 총 결제액 / 평균 결제액 뽑기"
   ]
  },
  {
   "cell_type": "code",
   "execution_count": 1,
   "metadata": {
    "collapsed": true
   },
   "outputs": [],
   "source": [
    "import pandas as pd\n",
    "import MySQLdb\n",
    "\n",
    "db = MySQLdb.connect(\n",
    "    'db.fastcamp.us', \n",
    "    'root',\n",
    "    'dkstncks',\n",
    "    'sakila',\n",
    "    charset='utf8',\n",
    ")"
   ]
  },
  {
   "cell_type": "code",
   "execution_count": 2,
   "metadata": {
    "collapsed": true
   },
   "outputs": [],
   "source": [
    "SQL_QUERY = \"\"\"\n",
    "    SELECT * FROM payment;\n",
    "\"\"\"\n",
    "\n",
    "payment_df = pd.read_sql(SQL_QUERY, db)"
   ]
  },
  {
   "cell_type": "code",
   "execution_count": 3,
   "metadata": {
    "collapsed": false
   },
   "outputs": [
    {
     "data": {
      "text/html": [
       "<div>\n",
       "<table border=\"1\" class=\"dataframe\">\n",
       "  <thead>\n",
       "    <tr style=\"text-align: right;\">\n",
       "      <th></th>\n",
       "      <th>payment_id</th>\n",
       "      <th>customer_id</th>\n",
       "      <th>staff_id</th>\n",
       "      <th>rental_id</th>\n",
       "      <th>amount</th>\n",
       "      <th>payment_date</th>\n",
       "      <th>last_update</th>\n",
       "    </tr>\n",
       "  </thead>\n",
       "  <tbody>\n",
       "    <tr>\n",
       "      <th>16044</th>\n",
       "      <td>16045</td>\n",
       "      <td>599</td>\n",
       "      <td>1</td>\n",
       "      <td>14599</td>\n",
       "      <td>4.99</td>\n",
       "      <td>2005-08-21 17:43:42</td>\n",
       "      <td>2006-02-15 22:24:12</td>\n",
       "    </tr>\n",
       "    <tr>\n",
       "      <th>16045</th>\n",
       "      <td>16046</td>\n",
       "      <td>599</td>\n",
       "      <td>1</td>\n",
       "      <td>14719</td>\n",
       "      <td>1.99</td>\n",
       "      <td>2005-08-21 21:41:57</td>\n",
       "      <td>2006-02-15 22:24:12</td>\n",
       "    </tr>\n",
       "    <tr>\n",
       "      <th>16046</th>\n",
       "      <td>16047</td>\n",
       "      <td>599</td>\n",
       "      <td>2</td>\n",
       "      <td>15590</td>\n",
       "      <td>8.99</td>\n",
       "      <td>2005-08-23 06:09:44</td>\n",
       "      <td>2006-02-15 22:24:12</td>\n",
       "    </tr>\n",
       "    <tr>\n",
       "      <th>16047</th>\n",
       "      <td>16048</td>\n",
       "      <td>599</td>\n",
       "      <td>2</td>\n",
       "      <td>15719</td>\n",
       "      <td>2.99</td>\n",
       "      <td>2005-08-23 11:08:46</td>\n",
       "      <td>2006-02-15 22:24:13</td>\n",
       "    </tr>\n",
       "    <tr>\n",
       "      <th>16048</th>\n",
       "      <td>16049</td>\n",
       "      <td>599</td>\n",
       "      <td>2</td>\n",
       "      <td>15725</td>\n",
       "      <td>2.99</td>\n",
       "      <td>2005-08-23 11:25:00</td>\n",
       "      <td>2006-02-15 22:24:13</td>\n",
       "    </tr>\n",
       "  </tbody>\n",
       "</table>\n",
       "</div>"
      ],
      "text/plain": [
       "       payment_id  customer_id  staff_id  rental_id  amount  \\\n",
       "16044       16045          599         1      14599    4.99   \n",
       "16045       16046          599         1      14719    1.99   \n",
       "16046       16047          599         2      15590    8.99   \n",
       "16047       16048          599         2      15719    2.99   \n",
       "16048       16049          599         2      15725    2.99   \n",
       "\n",
       "             payment_date         last_update  \n",
       "16044 2005-08-21 17:43:42 2006-02-15 22:24:12  \n",
       "16045 2005-08-21 21:41:57 2006-02-15 22:24:12  \n",
       "16046 2005-08-23 06:09:44 2006-02-15 22:24:12  \n",
       "16047 2005-08-23 11:08:46 2006-02-15 22:24:13  \n",
       "16048 2005-08-23 11:25:00 2006-02-15 22:24:13  "
      ]
     },
     "execution_count": 3,
     "metadata": {},
     "output_type": "execute_result"
    }
   ],
   "source": [
    "payment_df.tail()"
   ]
  },
  {
   "cell_type": "markdown",
   "metadata": {},
   "source": [
    "### SQL"
   ]
  },
  {
   "cell_type": "code",
   "execution_count": 13,
   "metadata": {
    "collapsed": false
   },
   "outputs": [
    {
     "data": {
      "text/html": [
       "<div>\n",
       "<table border=\"1\" class=\"dataframe\">\n",
       "  <thead>\n",
       "    <tr style=\"text-align: right;\">\n",
       "      <th></th>\n",
       "      <th>Month</th>\n",
       "      <th>Total Payment Count</th>\n",
       "      <th>Total Payment Amount</th>\n",
       "      <th>Amount Per Payment</th>\n",
       "    </tr>\n",
       "  </thead>\n",
       "  <tbody>\n",
       "    <tr>\n",
       "      <th>0</th>\n",
       "      <td>2005-05</td>\n",
       "      <td>1157</td>\n",
       "      <td>4824.43</td>\n",
       "      <td>4.169775</td>\n",
       "    </tr>\n",
       "    <tr>\n",
       "      <th>1</th>\n",
       "      <td>2005-06</td>\n",
       "      <td>2312</td>\n",
       "      <td>9631.88</td>\n",
       "      <td>4.166038</td>\n",
       "    </tr>\n",
       "    <tr>\n",
       "      <th>2</th>\n",
       "      <td>2005-07</td>\n",
       "      <td>6711</td>\n",
       "      <td>28373.89</td>\n",
       "      <td>4.227968</td>\n",
       "    </tr>\n",
       "    <tr>\n",
       "      <th>3</th>\n",
       "      <td>2005-08</td>\n",
       "      <td>5687</td>\n",
       "      <td>24072.13</td>\n",
       "      <td>4.232835</td>\n",
       "    </tr>\n",
       "    <tr>\n",
       "      <th>4</th>\n",
       "      <td>2006-02</td>\n",
       "      <td>182</td>\n",
       "      <td>514.18</td>\n",
       "      <td>2.825165</td>\n",
       "    </tr>\n",
       "  </tbody>\n",
       "</table>\n",
       "</div>"
      ],
      "text/plain": [
       "     Month  Total Payment Count  Total Payment Amount  Amount Per Payment\n",
       "0  2005-05                 1157               4824.43            4.169775\n",
       "1  2005-06                 2312               9631.88            4.166038\n",
       "2  2005-07                 6711              28373.89            4.227968\n",
       "3  2005-08                 5687              24072.13            4.232835\n",
       "4  2006-02                  182                514.18            2.825165"
      ]
     },
     "execution_count": 13,
     "metadata": {},
     "output_type": "execute_result"
    }
   ],
   "source": [
    "# 항상 FROM table 먼저하고 어떤것을 빼올지 차례차례 적어나가는게 중요\n",
    "# 만약 average를 구할때도 차례차례구한다음 COUNT와 SUM을 #으로 지워주면 됨\n",
    "\n",
    "SQL_QUERY = \"\"\"\n",
    "    SELECT\n",
    "        LEFT(payment.payment_date, 7) 'Month',\n",
    "        COUNT(payment.payment_id) 'Total Payment Count',\n",
    "        SUM(payment.amount) 'Total Payment Amount',\n",
    "        SUM(payment.amount) / COUNT(payment.payment_id) 'Amount Per Payment'\n",
    "    FROM\n",
    "        payment\n",
    "    GROUP BY 1\n",
    "    ORDER BY 1 ASC\n",
    "    ;\n",
    "\"\"\"\n",
    "\n",
    "pd.read_sql(SQL_QUERY, db)"
   ]
  },
  {
   "cell_type": "code",
   "execution_count": 10,
   "metadata": {
    "collapsed": false
   },
   "outputs": [
    {
     "data": {
      "text/plain": [
       "4824.429674999999"
      ]
     },
     "execution_count": 10,
     "metadata": {},
     "output_type": "execute_result"
    }
   ],
   "source": [
    "1157 * 4.169775"
   ]
  },
  {
   "cell_type": "markdown",
   "metadata": {},
   "source": [
    "### pandas\n",
    "* count / sum / average\n",
    "* aggreate : 집합, 합치다 : 데이터를 합치는 기능"
   ]
  },
  {
   "cell_type": "code",
   "execution_count": 15,
   "metadata": {
    "collapsed": false,
    "scrolled": true
   },
   "outputs": [
    {
     "data": {
      "text/html": [
       "<div>\n",
       "<table border=\"1\" class=\"dataframe\">\n",
       "  <thead>\n",
       "    <tr style=\"text-align: right;\">\n",
       "      <th></th>\n",
       "      <th>payment_id</th>\n",
       "      <th>customer_id</th>\n",
       "      <th>staff_id</th>\n",
       "      <th>rental_id</th>\n",
       "      <th>amount</th>\n",
       "      <th>payment_date</th>\n",
       "      <th>last_update</th>\n",
       "    </tr>\n",
       "  </thead>\n",
       "  <tbody>\n",
       "    <tr>\n",
       "      <th>16044</th>\n",
       "      <td>16045</td>\n",
       "      <td>599</td>\n",
       "      <td>1</td>\n",
       "      <td>14599</td>\n",
       "      <td>4.99</td>\n",
       "      <td>2005-08-21 17:43:42</td>\n",
       "      <td>2006-02-15 22:24:12</td>\n",
       "    </tr>\n",
       "    <tr>\n",
       "      <th>16045</th>\n",
       "      <td>16046</td>\n",
       "      <td>599</td>\n",
       "      <td>1</td>\n",
       "      <td>14719</td>\n",
       "      <td>1.99</td>\n",
       "      <td>2005-08-21 21:41:57</td>\n",
       "      <td>2006-02-15 22:24:12</td>\n",
       "    </tr>\n",
       "    <tr>\n",
       "      <th>16046</th>\n",
       "      <td>16047</td>\n",
       "      <td>599</td>\n",
       "      <td>2</td>\n",
       "      <td>15590</td>\n",
       "      <td>8.99</td>\n",
       "      <td>2005-08-23 06:09:44</td>\n",
       "      <td>2006-02-15 22:24:12</td>\n",
       "    </tr>\n",
       "    <tr>\n",
       "      <th>16047</th>\n",
       "      <td>16048</td>\n",
       "      <td>599</td>\n",
       "      <td>2</td>\n",
       "      <td>15719</td>\n",
       "      <td>2.99</td>\n",
       "      <td>2005-08-23 11:08:46</td>\n",
       "      <td>2006-02-15 22:24:13</td>\n",
       "    </tr>\n",
       "    <tr>\n",
       "      <th>16048</th>\n",
       "      <td>16049</td>\n",
       "      <td>599</td>\n",
       "      <td>2</td>\n",
       "      <td>15725</td>\n",
       "      <td>2.99</td>\n",
       "      <td>2005-08-23 11:25:00</td>\n",
       "      <td>2006-02-15 22:24:13</td>\n",
       "    </tr>\n",
       "  </tbody>\n",
       "</table>\n",
       "</div>"
      ],
      "text/plain": [
       "       payment_id  customer_id  staff_id  rental_id  amount  \\\n",
       "16044       16045          599         1      14599    4.99   \n",
       "16045       16046          599         1      14719    1.99   \n",
       "16046       16047          599         2      15590    8.99   \n",
       "16047       16048          599         2      15719    2.99   \n",
       "16048       16049          599         2      15725    2.99   \n",
       "\n",
       "             payment_date         last_update  \n",
       "16044 2005-08-21 17:43:42 2006-02-15 22:24:12  \n",
       "16045 2005-08-21 21:41:57 2006-02-15 22:24:12  \n",
       "16046 2005-08-23 06:09:44 2006-02-15 22:24:12  \n",
       "16047 2005-08-23 11:08:46 2006-02-15 22:24:13  \n",
       "16048 2005-08-23 11:25:00 2006-02-15 22:24:13  "
      ]
     },
     "execution_count": 15,
     "metadata": {},
     "output_type": "execute_result"
    }
   ],
   "source": [
    "payment_df = pd.read_sql(\"SELECT * FROM payment;\", db)\n",
    "payment_df.tail()"
   ]
  },
  {
   "cell_type": "code",
   "execution_count": 19,
   "metadata": {
    "collapsed": false
   },
   "outputs": [
    {
     "data": {
      "text/html": [
       "<div>\n",
       "<table border=\"1\" class=\"dataframe\">\n",
       "  <thead>\n",
       "    <tr style=\"text-align: right;\">\n",
       "      <th></th>\n",
       "      <th>payment_id</th>\n",
       "      <th>customer_id</th>\n",
       "      <th>staff_id</th>\n",
       "      <th>rental_id</th>\n",
       "      <th>amount</th>\n",
       "      <th>payment_date</th>\n",
       "      <th>last_update</th>\n",
       "      <th>month</th>\n",
       "    </tr>\n",
       "  </thead>\n",
       "  <tbody>\n",
       "    <tr>\n",
       "      <th>16044</th>\n",
       "      <td>16045</td>\n",
       "      <td>599</td>\n",
       "      <td>1</td>\n",
       "      <td>14599</td>\n",
       "      <td>4.99</td>\n",
       "      <td>2005-08-21 17:43:42</td>\n",
       "      <td>2006-02-15 22:24:12</td>\n",
       "      <td>2005-08</td>\n",
       "    </tr>\n",
       "    <tr>\n",
       "      <th>16045</th>\n",
       "      <td>16046</td>\n",
       "      <td>599</td>\n",
       "      <td>1</td>\n",
       "      <td>14719</td>\n",
       "      <td>1.99</td>\n",
       "      <td>2005-08-21 21:41:57</td>\n",
       "      <td>2006-02-15 22:24:12</td>\n",
       "      <td>2005-08</td>\n",
       "    </tr>\n",
       "    <tr>\n",
       "      <th>16046</th>\n",
       "      <td>16047</td>\n",
       "      <td>599</td>\n",
       "      <td>2</td>\n",
       "      <td>15590</td>\n",
       "      <td>8.99</td>\n",
       "      <td>2005-08-23 06:09:44</td>\n",
       "      <td>2006-02-15 22:24:12</td>\n",
       "      <td>2005-08</td>\n",
       "    </tr>\n",
       "    <tr>\n",
       "      <th>16047</th>\n",
       "      <td>16048</td>\n",
       "      <td>599</td>\n",
       "      <td>2</td>\n",
       "      <td>15719</td>\n",
       "      <td>2.99</td>\n",
       "      <td>2005-08-23 11:08:46</td>\n",
       "      <td>2006-02-15 22:24:13</td>\n",
       "      <td>2005-08</td>\n",
       "    </tr>\n",
       "    <tr>\n",
       "      <th>16048</th>\n",
       "      <td>16049</td>\n",
       "      <td>599</td>\n",
       "      <td>2</td>\n",
       "      <td>15725</td>\n",
       "      <td>2.99</td>\n",
       "      <td>2005-08-23 11:25:00</td>\n",
       "      <td>2006-02-15 22:24:13</td>\n",
       "      <td>2005-08</td>\n",
       "    </tr>\n",
       "  </tbody>\n",
       "</table>\n",
       "</div>"
      ],
      "text/plain": [
       "       payment_id  customer_id  staff_id  rental_id  amount  \\\n",
       "16044       16045          599         1      14599    4.99   \n",
       "16045       16046          599         1      14719    1.99   \n",
       "16046       16047          599         2      15590    8.99   \n",
       "16047       16048          599         2      15719    2.99   \n",
       "16048       16049          599         2      15725    2.99   \n",
       "\n",
       "             payment_date         last_update    month  \n",
       "16044 2005-08-21 17:43:42 2006-02-15 22:24:12  2005-08  \n",
       "16045 2005-08-21 21:41:57 2006-02-15 22:24:12  2005-08  \n",
       "16046 2005-08-23 06:09:44 2006-02-15 22:24:12  2005-08  \n",
       "16047 2005-08-23 11:08:46 2006-02-15 22:24:13  2005-08  \n",
       "16048 2005-08-23 11:25:00 2006-02-15 22:24:13  2005-08  "
      ]
     },
     "execution_count": 19,
     "metadata": {},
     "output_type": "execute_result"
    }
   ],
   "source": [
    "payment_df['month'] = payment_df['payment_date'].apply(\n",
    "    lambda x: str(x)[:7])\n",
    "payment_df.tail()"
   ]
  },
  {
   "cell_type": "code",
   "execution_count": 23,
   "metadata": {
    "collapsed": true
   },
   "outputs": [],
   "source": [
    "import numpy as np"
   ]
  },
  {
   "cell_type": "code",
   "execution_count": 25,
   "metadata": {
    "collapsed": false
   },
   "outputs": [
    {
     "data": {
      "text/html": [
       "<div>\n",
       "<table border=\"1\" class=\"dataframe\">\n",
       "  <thead>\n",
       "    <tr>\n",
       "      <th></th>\n",
       "      <th>payment_id</th>\n",
       "      <th colspan=\"2\" halign=\"left\">amount</th>\n",
       "    </tr>\n",
       "    <tr>\n",
       "      <th></th>\n",
       "      <th>size</th>\n",
       "      <th>sum</th>\n",
       "      <th>mean</th>\n",
       "    </tr>\n",
       "    <tr>\n",
       "      <th>month</th>\n",
       "      <th></th>\n",
       "      <th></th>\n",
       "      <th></th>\n",
       "    </tr>\n",
       "  </thead>\n",
       "  <tbody>\n",
       "    <tr>\n",
       "      <th>2005-05</th>\n",
       "      <td>1157</td>\n",
       "      <td>4824.43</td>\n",
       "      <td>4.169775</td>\n",
       "    </tr>\n",
       "    <tr>\n",
       "      <th>2005-06</th>\n",
       "      <td>2312</td>\n",
       "      <td>9631.88</td>\n",
       "      <td>4.166038</td>\n",
       "    </tr>\n",
       "    <tr>\n",
       "      <th>2005-07</th>\n",
       "      <td>6711</td>\n",
       "      <td>28373.89</td>\n",
       "      <td>4.227968</td>\n",
       "    </tr>\n",
       "    <tr>\n",
       "      <th>2005-08</th>\n",
       "      <td>5687</td>\n",
       "      <td>24072.13</td>\n",
       "      <td>4.232835</td>\n",
       "    </tr>\n",
       "    <tr>\n",
       "      <th>2006-02</th>\n",
       "      <td>182</td>\n",
       "      <td>514.18</td>\n",
       "      <td>2.825165</td>\n",
       "    </tr>\n",
       "  </tbody>\n",
       "</table>\n",
       "</div>"
      ],
      "text/plain": [
       "        payment_id    amount          \n",
       "              size       sum      mean\n",
       "month                                 \n",
       "2005-05       1157   4824.43  4.169775\n",
       "2005-06       2312   9631.88  4.166038\n",
       "2005-07       6711  28373.89  4.227968\n",
       "2005-08       5687  24072.13  4.232835\n",
       "2006-02        182    514.18  2.825165"
      ]
     },
     "execution_count": 25,
     "metadata": {},
     "output_type": "execute_result"
    }
   ],
   "source": [
    "payment_df.groupby('month').agg({\n",
    "        'payment_id' : [np.size,],  # COUNT\n",
    "        'amount' : [np.sum, np.mean],  # SUM, MEAN   \n",
    "    })"
   ]
  },
  {
   "cell_type": "code",
   "execution_count": null,
   "metadata": {
    "collapsed": true
   },
   "outputs": [],
   "source": []
  },
  {
   "cell_type": "code",
   "execution_count": null,
   "metadata": {
    "collapsed": true
   },
   "outputs": [],
   "source": []
  },
  {
   "cell_type": "code",
   "execution_count": null,
   "metadata": {
    "collapsed": true
   },
   "outputs": [],
   "source": []
  },
  {
   "cell_type": "code",
   "execution_count": 27,
   "metadata": {
    "collapsed": false
   },
   "outputs": [
    {
     "data": {
      "text/html": [
       "<div>\n",
       "<table border=\"1\" class=\"dataframe\">\n",
       "  <thead>\n",
       "    <tr style=\"text-align: right;\">\n",
       "      <th></th>\n",
       "      <th>payment_id</th>\n",
       "      <th>customer_id</th>\n",
       "      <th>staff_id</th>\n",
       "      <th>rental_id</th>\n",
       "      <th>amount</th>\n",
       "      <th>payment_date</th>\n",
       "      <th>last_update</th>\n",
       "    </tr>\n",
       "  </thead>\n",
       "  <tbody>\n",
       "    <tr>\n",
       "      <th>16044</th>\n",
       "      <td>16045</td>\n",
       "      <td>599</td>\n",
       "      <td>1</td>\n",
       "      <td>14599</td>\n",
       "      <td>4.99</td>\n",
       "      <td>2005-08-21 17:43:42</td>\n",
       "      <td>2006-02-15 22:24:12</td>\n",
       "    </tr>\n",
       "    <tr>\n",
       "      <th>16045</th>\n",
       "      <td>16046</td>\n",
       "      <td>599</td>\n",
       "      <td>1</td>\n",
       "      <td>14719</td>\n",
       "      <td>1.99</td>\n",
       "      <td>2005-08-21 21:41:57</td>\n",
       "      <td>2006-02-15 22:24:12</td>\n",
       "    </tr>\n",
       "    <tr>\n",
       "      <th>16046</th>\n",
       "      <td>16047</td>\n",
       "      <td>599</td>\n",
       "      <td>2</td>\n",
       "      <td>15590</td>\n",
       "      <td>8.99</td>\n",
       "      <td>2005-08-23 06:09:44</td>\n",
       "      <td>2006-02-15 22:24:12</td>\n",
       "    </tr>\n",
       "    <tr>\n",
       "      <th>16047</th>\n",
       "      <td>16048</td>\n",
       "      <td>599</td>\n",
       "      <td>2</td>\n",
       "      <td>15719</td>\n",
       "      <td>2.99</td>\n",
       "      <td>2005-08-23 11:08:46</td>\n",
       "      <td>2006-02-15 22:24:13</td>\n",
       "    </tr>\n",
       "    <tr>\n",
       "      <th>16048</th>\n",
       "      <td>16049</td>\n",
       "      <td>599</td>\n",
       "      <td>2</td>\n",
       "      <td>15725</td>\n",
       "      <td>2.99</td>\n",
       "      <td>2005-08-23 11:25:00</td>\n",
       "      <td>2006-02-15 22:24:13</td>\n",
       "    </tr>\n",
       "  </tbody>\n",
       "</table>\n",
       "</div>"
      ],
      "text/plain": [
       "       payment_id  customer_id  staff_id  rental_id  amount  \\\n",
       "16044       16045          599         1      14599    4.99   \n",
       "16045       16046          599         1      14719    1.99   \n",
       "16046       16047          599         2      15590    8.99   \n",
       "16047       16048          599         2      15719    2.99   \n",
       "16048       16049          599         2      15725    2.99   \n",
       "\n",
       "             payment_date         last_update  \n",
       "16044 2005-08-21 17:43:42 2006-02-15 22:24:12  \n",
       "16045 2005-08-21 21:41:57 2006-02-15 22:24:12  \n",
       "16046 2005-08-23 06:09:44 2006-02-15 22:24:12  \n",
       "16047 2005-08-23 11:08:46 2006-02-15 22:24:13  \n",
       "16048 2005-08-23 11:25:00 2006-02-15 22:24:13  "
      ]
     },
     "execution_count": 27,
     "metadata": {},
     "output_type": "execute_result"
    }
   ],
   "source": [
    "payment_df = pd.read_sql(\"SELECT * FROM payment;\", db)\n",
    "payment_df.tail()"
   ]
  },
  {
   "cell_type": "code",
   "execution_count": 30,
   "metadata": {
    "collapsed": false
   },
   "outputs": [
    {
     "data": {
      "text/html": [
       "<div>\n",
       "<table border=\"1\" class=\"dataframe\">\n",
       "  <thead>\n",
       "    <tr style=\"text-align: right;\">\n",
       "      <th></th>\n",
       "      <th>payment_id</th>\n",
       "      <th>customer_id</th>\n",
       "      <th>staff_id</th>\n",
       "      <th>rental_id</th>\n",
       "      <th>amount</th>\n",
       "      <th>payment_date</th>\n",
       "      <th>last_update</th>\n",
       "      <th>month</th>\n",
       "    </tr>\n",
       "  </thead>\n",
       "  <tbody>\n",
       "    <tr>\n",
       "      <th>16044</th>\n",
       "      <td>16045</td>\n",
       "      <td>599</td>\n",
       "      <td>1</td>\n",
       "      <td>14599</td>\n",
       "      <td>4.99</td>\n",
       "      <td>2005-08-21 17:43:42</td>\n",
       "      <td>2006-02-15 22:24:12</td>\n",
       "      <td>2005-08</td>\n",
       "    </tr>\n",
       "    <tr>\n",
       "      <th>16045</th>\n",
       "      <td>16046</td>\n",
       "      <td>599</td>\n",
       "      <td>1</td>\n",
       "      <td>14719</td>\n",
       "      <td>1.99</td>\n",
       "      <td>2005-08-21 21:41:57</td>\n",
       "      <td>2006-02-15 22:24:12</td>\n",
       "      <td>2005-08</td>\n",
       "    </tr>\n",
       "    <tr>\n",
       "      <th>16046</th>\n",
       "      <td>16047</td>\n",
       "      <td>599</td>\n",
       "      <td>2</td>\n",
       "      <td>15590</td>\n",
       "      <td>8.99</td>\n",
       "      <td>2005-08-23 06:09:44</td>\n",
       "      <td>2006-02-15 22:24:12</td>\n",
       "      <td>2005-08</td>\n",
       "    </tr>\n",
       "    <tr>\n",
       "      <th>16047</th>\n",
       "      <td>16048</td>\n",
       "      <td>599</td>\n",
       "      <td>2</td>\n",
       "      <td>15719</td>\n",
       "      <td>2.99</td>\n",
       "      <td>2005-08-23 11:08:46</td>\n",
       "      <td>2006-02-15 22:24:13</td>\n",
       "      <td>2005-08</td>\n",
       "    </tr>\n",
       "    <tr>\n",
       "      <th>16048</th>\n",
       "      <td>16049</td>\n",
       "      <td>599</td>\n",
       "      <td>2</td>\n",
       "      <td>15725</td>\n",
       "      <td>2.99</td>\n",
       "      <td>2005-08-23 11:25:00</td>\n",
       "      <td>2006-02-15 22:24:13</td>\n",
       "      <td>2005-08</td>\n",
       "    </tr>\n",
       "  </tbody>\n",
       "</table>\n",
       "</div>"
      ],
      "text/plain": [
       "       payment_id  customer_id  staff_id  rental_id  amount  \\\n",
       "16044       16045          599         1      14599    4.99   \n",
       "16045       16046          599         1      14719    1.99   \n",
       "16046       16047          599         2      15590    8.99   \n",
       "16047       16048          599         2      15719    2.99   \n",
       "16048       16049          599         2      15725    2.99   \n",
       "\n",
       "             payment_date         last_update    month  \n",
       "16044 2005-08-21 17:43:42 2006-02-15 22:24:12  2005-08  \n",
       "16045 2005-08-21 21:41:57 2006-02-15 22:24:12  2005-08  \n",
       "16046 2005-08-23 06:09:44 2006-02-15 22:24:12  2005-08  \n",
       "16047 2005-08-23 11:08:46 2006-02-15 22:24:13  2005-08  \n",
       "16048 2005-08-23 11:25:00 2006-02-15 22:24:13  2005-08  "
      ]
     },
     "execution_count": 30,
     "metadata": {},
     "output_type": "execute_result"
    }
   ],
   "source": [
    "payment_df['month'] = payment_df['payment_date'].apply(\n",
    "    lambda x: str(x)[:7])\n",
    "payment_df.tail()"
   ]
  },
  {
   "cell_type": "code",
   "execution_count": 31,
   "metadata": {
    "collapsed": false
   },
   "outputs": [
    {
     "data": {
      "text/html": [
       "<div>\n",
       "<table border=\"1\" class=\"dataframe\">\n",
       "  <thead>\n",
       "    <tr>\n",
       "      <th></th>\n",
       "      <th>payment_id</th>\n",
       "      <th colspan=\"2\" halign=\"left\">amount</th>\n",
       "    </tr>\n",
       "    <tr>\n",
       "      <th></th>\n",
       "      <th>size</th>\n",
       "      <th>sum</th>\n",
       "      <th>mean</th>\n",
       "    </tr>\n",
       "    <tr>\n",
       "      <th>month</th>\n",
       "      <th></th>\n",
       "      <th></th>\n",
       "      <th></th>\n",
       "    </tr>\n",
       "  </thead>\n",
       "  <tbody>\n",
       "    <tr>\n",
       "      <th>2005-05</th>\n",
       "      <td>1157</td>\n",
       "      <td>4824.43</td>\n",
       "      <td>4.169775</td>\n",
       "    </tr>\n",
       "    <tr>\n",
       "      <th>2005-06</th>\n",
       "      <td>2312</td>\n",
       "      <td>9631.88</td>\n",
       "      <td>4.166038</td>\n",
       "    </tr>\n",
       "    <tr>\n",
       "      <th>2005-07</th>\n",
       "      <td>6711</td>\n",
       "      <td>28373.89</td>\n",
       "      <td>4.227968</td>\n",
       "    </tr>\n",
       "    <tr>\n",
       "      <th>2005-08</th>\n",
       "      <td>5687</td>\n",
       "      <td>24072.13</td>\n",
       "      <td>4.232835</td>\n",
       "    </tr>\n",
       "    <tr>\n",
       "      <th>2006-02</th>\n",
       "      <td>182</td>\n",
       "      <td>514.18</td>\n",
       "      <td>2.825165</td>\n",
       "    </tr>\n",
       "  </tbody>\n",
       "</table>\n",
       "</div>"
      ],
      "text/plain": [
       "        payment_id    amount          \n",
       "              size       sum      mean\n",
       "month                                 \n",
       "2005-05       1157   4824.43  4.169775\n",
       "2005-06       2312   9631.88  4.166038\n",
       "2005-07       6711  28373.89  4.227968\n",
       "2005-08       5687  24072.13  4.232835\n",
       "2006-02        182    514.18  2.825165"
      ]
     },
     "execution_count": 31,
     "metadata": {},
     "output_type": "execute_result"
    }
   ],
   "source": [
    "payment_df.groupby('month').agg({\n",
    "        'payment_id' : [np.size],\n",
    "        'amount' : [np.sum, np.mean],\n",
    "    })"
   ]
  },
  {
   "cell_type": "code",
   "execution_count": null,
   "metadata": {
    "collapsed": true
   },
   "outputs": [],
   "source": []
  }
 ],
 "metadata": {
  "kernelspec": {
   "display_name": "Python 2",
   "language": "python",
   "name": "python2"
  },
  "language_info": {
   "codemirror_mode": {
    "name": "ipython",
    "version": 2
   },
   "file_extension": ".py",
   "mimetype": "text/x-python",
   "name": "python",
   "nbconvert_exporter": "python",
   "pygments_lexer": "ipython2",
   "version": "2.7.11"
  }
 },
 "nbformat": 4,
 "nbformat_minor": 0
}
