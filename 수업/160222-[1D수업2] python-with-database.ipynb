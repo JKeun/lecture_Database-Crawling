{
 "cells": [
  {
   "cell_type": "markdown",
   "metadata": {},
   "source": [
    "# jupyter notebook에서 db활용하기"
   ]
  },
  {
   "cell_type": "markdown",
   "metadata": {},
   "source": [
    "1. MySQLdb import 하기\n",
    "\n",
    "pip install mysqlclient"
   ]
  },
  {
   "cell_type": "code",
   "execution_count": 1,
   "metadata": {
    "collapsed": true
   },
   "outputs": [],
   "source": [
    "import MySQLdb"
   ]
  },
  {
   "cell_type": "markdown",
   "metadata": {},
   "source": [
    "2. db에 연결하기"
   ]
  },
  {
   "cell_type": "code",
   "execution_count": 8,
   "metadata": {
    "collapsed": false
   },
   "outputs": [],
   "source": [
    "db = MySQLdb.connect(\n",
    "    \"db.fastcamp.us\",\n",
    "    \"root\",\n",
    "    \"dkstncks\",\n",
    "    \"jkeun_sample\",\n",
    "    charset='utf8',\n",
    ")\n",
    "# 파이썬을 이용해서 MySQL에 연결하는것"
   ]
  },
  {
   "cell_type": "code",
   "execution_count": 9,
   "metadata": {
    "collapsed": true
   },
   "outputs": [],
   "source": [
    "cursor = db.cursor()\n",
    "#cursor = db에서 위치를 알려주는 역할"
   ]
  },
  {
   "cell_type": "code",
   "execution_count": 10,
   "metadata": {
    "collapsed": false,
    "scrolled": false
   },
   "outputs": [
    {
     "data": {
      "text/plain": [
       "((u'information_schema',),\n",
       " (u'JAYWHY',),\n",
       " (u'JEONGEUNSEOP',),\n",
       " (u'JessieB',),\n",
       " (u'angie0829',),\n",
       " (u'beomheepark',),\n",
       " (u'bright_sample',),\n",
       " (u'chibok_sample',),\n",
       " (u'dobestan',),\n",
       " (u'dobestan_sample',),\n",
       " (u'goldstar_sample',),\n",
       " (u'goodjob',),\n",
       " (u'gs_samples',),\n",
       " (u'jkeun_sample',),\n",
       " (u'jones_sample',),\n",
       " (u'kcchoi_sample',),\n",
       " (u'kty_sample',),\n",
       " (u'leo_sample',),\n",
       " (u'mysql',),\n",
       " (u'obolosample',),\n",
       " (u'performance_schema',),\n",
       " (u'sakila',),\n",
       " (u'sechang_sample',),\n",
       " (u'sibadog_sample',),\n",
       " (u'sunghwan_sample',),\n",
       " (u'valentine',),\n",
       " (u'world',),\n",
       " (u'yanghwi_sample',),\n",
       " (u'yudaesung_sample',))"
      ]
     },
     "execution_count": 10,
     "metadata": {},
     "output_type": "execute_result"
    }
   ],
   "source": [
    "cursor.execute(\"SHOW DATABASES;\")\n",
    "cursor.fetchall()"
   ]
  },
  {
   "cell_type": "code",
   "execution_count": 7,
   "metadata": {
    "collapsed": true
   },
   "outputs": [],
   "source": [
    "# db.close()\n",
    "#db와 연결을 끊음"
   ]
  },
  {
   "cell_type": "code",
   "execution_count": 17,
   "metadata": {
    "collapsed": false
   },
   "outputs": [
    {
     "data": {
      "text/plain": [
       "1L"
      ]
     },
     "execution_count": 17,
     "metadata": {},
     "output_type": "execute_result"
    }
   ],
   "source": [
    "SQL_QUERY = \"\"\"\n",
    "    INSERT INTO room (address, phonenumber, deposit, rent)\n",
    "    VALUES (\n",
    "        'Seoul, Korea',\n",
    "        '010-9525-7900',\n",
    "        '1000',\n",
    "        '50'\n",
    "    );\n",
    "\"\"\"\n",
    "\n",
    "cursor.execute(SQL_QUERY)"
   ]
  },
  {
   "cell_type": "code",
   "execution_count": 19,
   "metadata": {
    "collapsed": false
   },
   "outputs": [
    {
     "data": {
      "text/plain": [
       "<function commit>"
      ]
     },
     "execution_count": 19,
     "metadata": {},
     "output_type": "execute_result"
    }
   ],
   "source": [
    "cursor.execute(SQL_QUERY)\n",
    "db.commit()"
   ]
  },
  {
   "cell_type": "code",
   "execution_count": 20,
   "metadata": {
    "collapsed": true
   },
   "outputs": [],
   "source": [
    "# mysql에서 보면 옛날꺼 그대로있음\n",
    "# 데이터베이스의경우 사람들이 실수할수도 있기때문에 데이터를 추가하거나 업데이트,\n",
    "# 삭제하는 것을 조심스럽게 해야함 commit으로 할수있음"
   ]
  },
  {
   "cell_type": "code",
   "execution_count": 24,
   "metadata": {
    "collapsed": false
   },
   "outputs": [
    {
     "data": {
      "text/plain": [
       "((u'????? ??? ???? 4F', u'010-9525-7900', 10000L, 200L),\n",
       " (u'Seoul, Korea', u'010-9525-7900', 1000L, 50L),\n",
       " (u'Seoul, Korea', u'010-9525-7900', 1000L, 50L),\n",
       " (u'Seoul, Korea', u'010-9525-7900', 1000L, 50L),\n",
       " (u'Seoul, Korea', u'010-9525-7900', 1000L, 50L),\n",
       " (u'Seoul, Korea', u'010-9525-7900', 1000L, 50L),\n",
       " (u'Seoul, Korea', u'010-9525-7900', 1000L, 50L))"
      ]
     },
     "execution_count": 24,
     "metadata": {},
     "output_type": "execute_result"
    }
   ],
   "source": [
    "cursor.execute(\"SELECT * FROM room;\")\n",
    "cursor.fetchall()"
   ]
  },
  {
   "cell_type": "markdown",
   "metadata": {},
   "source": [
    "## db -> 판다스 데이터프레임으로 불러오기"
   ]
  },
  {
   "cell_type": "code",
   "execution_count": 22,
   "metadata": {
    "collapsed": false
   },
   "outputs": [],
   "source": [
    "import pandas as pd"
   ]
  },
  {
   "cell_type": "code",
   "execution_count": 23,
   "metadata": {
    "collapsed": false
   },
   "outputs": [
    {
     "data": {
      "text/html": [
       "<div>\n",
       "<table border=\"1\" class=\"dataframe\">\n",
       "  <thead>\n",
       "    <tr style=\"text-align: right;\">\n",
       "      <th></th>\n",
       "      <th>address</th>\n",
       "      <th>phonenumber</th>\n",
       "      <th>deposit</th>\n",
       "      <th>rent</th>\n",
       "    </tr>\n",
       "  </thead>\n",
       "  <tbody>\n",
       "    <tr>\n",
       "      <th>0</th>\n",
       "      <td>????? ??? ???? 4F</td>\n",
       "      <td>010-9525-7900</td>\n",
       "      <td>10000</td>\n",
       "      <td>200</td>\n",
       "    </tr>\n",
       "    <tr>\n",
       "      <th>1</th>\n",
       "      <td>Seoul, Korea</td>\n",
       "      <td>010-9525-7900</td>\n",
       "      <td>1000</td>\n",
       "      <td>50</td>\n",
       "    </tr>\n",
       "    <tr>\n",
       "      <th>2</th>\n",
       "      <td>Seoul, Korea</td>\n",
       "      <td>010-9525-7900</td>\n",
       "      <td>1000</td>\n",
       "      <td>50</td>\n",
       "    </tr>\n",
       "    <tr>\n",
       "      <th>3</th>\n",
       "      <td>Seoul, Korea</td>\n",
       "      <td>010-9525-7900</td>\n",
       "      <td>1000</td>\n",
       "      <td>50</td>\n",
       "    </tr>\n",
       "    <tr>\n",
       "      <th>4</th>\n",
       "      <td>Seoul, Korea</td>\n",
       "      <td>010-9525-7900</td>\n",
       "      <td>1000</td>\n",
       "      <td>50</td>\n",
       "    </tr>\n",
       "    <tr>\n",
       "      <th>5</th>\n",
       "      <td>Seoul, Korea</td>\n",
       "      <td>010-9525-7900</td>\n",
       "      <td>1000</td>\n",
       "      <td>50</td>\n",
       "    </tr>\n",
       "    <tr>\n",
       "      <th>6</th>\n",
       "      <td>Seoul, Korea</td>\n",
       "      <td>010-9525-7900</td>\n",
       "      <td>1000</td>\n",
       "      <td>50</td>\n",
       "    </tr>\n",
       "  </tbody>\n",
       "</table>\n",
       "</div>"
      ],
      "text/plain": [
       "             address    phonenumber  deposit  rent\n",
       "0  ????? ??? ???? 4F  010-9525-7900    10000   200\n",
       "1       Seoul, Korea  010-9525-7900     1000    50\n",
       "2       Seoul, Korea  010-9525-7900     1000    50\n",
       "3       Seoul, Korea  010-9525-7900     1000    50\n",
       "4       Seoul, Korea  010-9525-7900     1000    50\n",
       "5       Seoul, Korea  010-9525-7900     1000    50\n",
       "6       Seoul, Korea  010-9525-7900     1000    50"
      ]
     },
     "execution_count": 23,
     "metadata": {},
     "output_type": "execute_result"
    }
   ],
   "source": [
    "pd.read_sql(\"SELECT * FROM room;\", db)"
   ]
  },
  {
   "cell_type": "code",
   "execution_count": null,
   "metadata": {
    "collapsed": true
   },
   "outputs": [],
   "source": []
  },
  {
   "cell_type": "code",
   "execution_count": null,
   "metadata": {
    "collapsed": true
   },
   "outputs": [],
   "source": []
  },
  {
   "cell_type": "code",
   "execution_count": null,
   "metadata": {
    "collapsed": true
   },
   "outputs": [],
   "source": []
  },
  {
   "cell_type": "code",
   "execution_count": null,
   "metadata": {
    "collapsed": true
   },
   "outputs": [],
   "source": []
  },
  {
   "cell_type": "code",
   "execution_count": null,
   "metadata": {
    "collapsed": true
   },
   "outputs": [],
   "source": []
  },
  {
   "cell_type": "code",
   "execution_count": null,
   "metadata": {
    "collapsed": true
   },
   "outputs": [],
   "source": []
  },
  {
   "cell_type": "markdown",
   "metadata": {},
   "source": [
    "# 아까만든 df1000개를 db에 넣기 과제"
   ]
  },
  {
   "cell_type": "code",
   "execution_count": null,
   "metadata": {
    "collapsed": true
   },
   "outputs": [],
   "source": []
  }
 ],
 "metadata": {
  "kernelspec": {
   "display_name": "Python 2",
   "language": "python",
   "name": "python2"
  },
  "language_info": {
   "codemirror_mode": {
    "name": "ipython",
    "version": 2
   },
   "file_extension": ".py",
   "mimetype": "text/x-python",
   "name": "python",
   "nbconvert_exporter": "python",
   "pygments_lexer": "ipython2",
   "version": "2.7.11"
  }
 },
 "nbformat": 4,
 "nbformat_minor": 0
}
