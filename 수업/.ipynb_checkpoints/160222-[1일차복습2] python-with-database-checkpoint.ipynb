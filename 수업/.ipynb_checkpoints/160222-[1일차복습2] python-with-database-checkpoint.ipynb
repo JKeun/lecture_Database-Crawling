{
 "cells": [
  {
   "cell_type": "markdown",
   "metadata": {},
   "source": [
    "# JupyterNotebook에서 DB활용하기\n",
    "* pip install mysqlclient"
   ]
  },
  {
   "cell_type": "markdown",
   "metadata": {},
   "source": [
    "**0. MySQLdb import 하기**"
   ]
  },
  {
   "cell_type": "code",
   "execution_count": 1,
   "metadata": {
    "collapsed": true
   },
   "outputs": [],
   "source": [
    "import MySQLdb"
   ]
  },
  {
   "cell_type": "markdown",
   "metadata": {},
   "source": [
    "**1. DB에 연결하기**"
   ]
  },
  {
   "cell_type": "code",
   "execution_count": 3,
   "metadata": {
    "collapsed": false
   },
   "outputs": [],
   "source": [
    "# 파이썬을 이용하여 MySQL에 연결하는 방법\n",
    "db = MySQLdb.connect(\n",
    "    \"db.fastcamp.us\",\n",
    "    \"root\",\n",
    "    \"dkstncks\",\n",
    "    \"jkeun_sample\",\n",
    "    charset='utf8',\n",
    ")"
   ]
  },
  {
   "cell_type": "markdown",
   "metadata": {},
   "source": [
    "**2. cursor(위치) 만들기**"
   ]
  },
  {
   "cell_type": "code",
   "execution_count": 4,
   "metadata": {
    "collapsed": true
   },
   "outputs": [],
   "source": [
    "# cursor란 DB에서 위치를 알려주는 역할\n",
    "cursor = db.cursor()"
   ]
  },
  {
   "cell_type": "markdown",
   "metadata": {},
   "source": [
    "**3. execute() : 명령문 실행하기**"
   ]
  },
  {
   "cell_type": "code",
   "execution_count": 5,
   "metadata": {
    "collapsed": false
   },
   "outputs": [
    {
     "data": {
      "text/plain": [
       "((u'information_schema',),\n",
       " (u'JAYWHY',),\n",
       " (u'JEONGEUNSEOP',),\n",
       " (u'JessieB',),\n",
       " (u'angie0829',),\n",
       " (u'beomheepark',),\n",
       " (u'bright_sample',),\n",
       " (u'chibok_sample',),\n",
       " (u'chibok_sample2',),\n",
       " (u'dobestan',),\n",
       " (u'dobestan_sample',),\n",
       " (u'goldstar_sample',),\n",
       " (u'gs_samples',),\n",
       " (u'higee_sample',),\n",
       " (u'jkeun_sample',),\n",
       " (u'jones_sample',),\n",
       " (u'kcchoi_sample',),\n",
       " (u'kty_sample',),\n",
       " (u'leo_sample',),\n",
       " (u'mysql',),\n",
       " (u'obolosample',),\n",
       " (u'performance_schema',),\n",
       " (u'sakila',),\n",
       " (u'sechang_sample',),\n",
       " (u'sibadog_sample',),\n",
       " (u'sunghwan_sample',),\n",
       " (u'valentine',),\n",
       " (u'world',),\n",
       " (u'yanghwi_sample',),\n",
       " (u'yudaesung_sample',))"
      ]
     },
     "execution_count": 5,
     "metadata": {},
     "output_type": "execute_result"
    }
   ],
   "source": [
    "cursor.execute(\"SHOW DATABASES;\")\n",
    "cursor.fetchall()"
   ]
  },
  {
   "cell_type": "code",
   "execution_count": 6,
   "metadata": {
    "collapsed": true
   },
   "outputs": [],
   "source": [
    "# db와 연결 끊음\n",
    "# db.close()"
   ]
  },
  {
   "cell_type": "code",
   "execution_count": 7,
   "metadata": {
    "collapsed": false
   },
   "outputs": [
    {
     "data": {
      "text/plain": [
       "1L"
      ]
     },
     "execution_count": 7,
     "metadata": {},
     "output_type": "execute_result"
    }
   ],
   "source": [
    "SQL_QUERY =\"\"\"\n",
    "    INSERT INTO room \n",
    "    (\n",
    "        address,\n",
    "        phonenumber,\n",
    "        deposit,\n",
    "        rent\n",
    "    )\n",
    "    VALUES\n",
    "    (\n",
    "        'Seoul, Korea',\n",
    "        '010-0000-0000',\n",
    "        '10000',\n",
    "        '500'\n",
    "    );\n",
    "\"\"\"\n",
    "\n",
    "cursor.execute(SQL_QUERY)"
   ]
  },
  {
   "cell_type": "markdown",
   "metadata": {},
   "source": [
    "**4. db.commit : DB에 저장하기**"
   ]
  },
  {
   "cell_type": "code",
   "execution_count": 19,
   "metadata": {
    "collapsed": false
   },
   "outputs": [],
   "source": [
    "db.commit()"
   ]
  },
  {
   "cell_type": "code",
   "execution_count": 20,
   "metadata": {
    "collapsed": true
   },
   "outputs": [],
   "source": [
    "# mysql에서 보면 옛날꺼 그대로있음\n",
    "# 데이터베이스의경우 사람들이 실수할수도 있기때문에 데이터를 추가하거나 업데이트,\n",
    "# 삭제하는 것을 조심스럽게 해야하므로 commit으로 해야함"
   ]
  },
  {
   "cell_type": "code",
   "execution_count": 21,
   "metadata": {
    "collapsed": false
   },
   "outputs": [
    {
     "data": {
      "text/plain": [
       "((u'????? ??? ???? 4F', u'010-0000-0000', 10000L, 200L),\n",
       " (u'Seoul, Korea', u'010-0000-0000', 10000L, 500L))"
      ]
     },
     "execution_count": 21,
     "metadata": {},
     "output_type": "execute_result"
    }
   ],
   "source": [
    "cursor.execute(\"SELECT * FROM room;\")\n",
    "cursor.fetchall()"
   ]
  },
  {
   "cell_type": "markdown",
   "metadata": {},
   "source": [
    "**5. DB => pd.DataFrame 불러오기**"
   ]
  },
  {
   "cell_type": "code",
   "execution_count": 22,
   "metadata": {
    "collapsed": false
   },
   "outputs": [
    {
     "data": {
      "text/html": [
       "<div>\n",
       "<table border=\"1\" class=\"dataframe\">\n",
       "  <thead>\n",
       "    <tr style=\"text-align: right;\">\n",
       "      <th></th>\n",
       "      <th>address</th>\n",
       "      <th>phonenumber</th>\n",
       "      <th>deposit</th>\n",
       "      <th>rent</th>\n",
       "    </tr>\n",
       "  </thead>\n",
       "  <tbody>\n",
       "    <tr>\n",
       "      <th>0</th>\n",
       "      <td>????? ??? ???? 4F</td>\n",
       "      <td>010-0000-0000</td>\n",
       "      <td>10000</td>\n",
       "      <td>200</td>\n",
       "    </tr>\n",
       "    <tr>\n",
       "      <th>1</th>\n",
       "      <td>Seoul, Korea</td>\n",
       "      <td>010-0000-0000</td>\n",
       "      <td>10000</td>\n",
       "      <td>500</td>\n",
       "    </tr>\n",
       "  </tbody>\n",
       "</table>\n",
       "</div>"
      ],
      "text/plain": [
       "             address    phonenumber  deposit  rent\n",
       "0  ????? ??? ???? 4F  010-0000-0000    10000   200\n",
       "1       Seoul, Korea  010-0000-0000    10000   500"
      ]
     },
     "execution_count": 22,
     "metadata": {},
     "output_type": "execute_result"
    }
   ],
   "source": [
    "import pandas as pd\n",
    "pd.read_sql(\"SELECT * FROM room;\", db)"
   ]
  },
  {
   "cell_type": "code",
   "execution_count": null,
   "metadata": {
    "collapsed": true
   },
   "outputs": [],
   "source": []
  }
 ],
 "metadata": {
  "kernelspec": {
   "display_name": "Python 2",
   "language": "python",
   "name": "python2"
  },
  "language_info": {
   "codemirror_mode": {
    "name": "ipython",
    "version": 2
   },
   "file_extension": ".py",
   "mimetype": "text/x-python",
   "name": "python",
   "nbconvert_exporter": "python",
   "pygments_lexer": "ipython2",
   "version": "2.7.11"
  }
 },
 "nbformat": 4,
 "nbformat_minor": 0
}
