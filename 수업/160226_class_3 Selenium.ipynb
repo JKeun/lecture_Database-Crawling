{
 "cells": [
  {
   "cell_type": "code",
   "execution_count": 1,
   "metadata": {
    "collapsed": true
   },
   "outputs": [],
   "source": [
    "from selenium import webdriver"
   ]
  },
  {
   "cell_type": "markdown",
   "metadata": {},
   "source": [
    "* Kcia (화장품 성분)\n",
    "    * page 넘어가도 url 안변함\n",
    "    * javascript code 실행시키면 page 이동"
   ]
  },
  {
   "cell_type": "code",
   "execution_count": 2,
   "metadata": {
    "collapsed": true
   },
   "outputs": [],
   "source": [
    "driver = webdriver.Firefox()"
   ]
  },
  {
   "cell_type": "code",
   "execution_count": 3,
   "metadata": {
    "collapsed": true
   },
   "outputs": [],
   "source": [
    "driver.get(\"http://www.kcia.or.kr/cid/Document/020.Ingredient_shis/INGREDIENT_SHIS_10L.asp\")"
   ]
  },
  {
   "cell_type": "code",
   "execution_count": 4,
   "metadata": {
    "collapsed": true
   },
   "outputs": [],
   "source": [
    "driver.execute_script(\"fGoPage(100)\")"
   ]
  },
  {
   "cell_type": "code",
   "execution_count": 5,
   "metadata": {
    "collapsed": true
   },
   "outputs": [],
   "source": [
    "# java 돌리기 execute_script\n",
    "for i in range(1, 10):\n",
    "    driver.execute_script(\n",
    "        \"fGoPage({page_id})\".format(\n",
    "            page_id=i\n",
    "        )\n",
    "    )"
   ]
  },
  {
   "cell_type": "code",
   "execution_count": 10,
   "metadata": {
    "collapsed": false
   },
   "outputs": [
    {
     "data": {
      "text/plain": [
       "u'\\ub85c\\uadf8\\uc544\\uc6c3 \\ud558\\uc2dc\\uaca0\\uc2b5\\ub2c8\\uae4c?'"
      ]
     },
     "execution_count": 10,
     "metadata": {},
     "output_type": "execute_result"
    }
   ],
   "source": [
    "driver.execute_script(\"confirm('로그아웃 하시겠습니까?')\")"
   ]
  },
  {
   "cell_type": "code",
   "execution_count": 12,
   "metadata": {
    "collapsed": true
   },
   "outputs": [
    {
     "ename": "NoSuchElementException",
     "evalue": "Message: Unable to locate element: {\"method\":\"css selector\",\"selector\":\"div#home-component input.form-control\"}\nStacktrace:\n    at FirefoxDriver.prototype.findElementInternal_ (file:///c:/users/gee/appdata/local/temp/tmp5s0gnw/extensions/fxdriver@googlecode.com/components/driver-component.js:10723)\n    at FirefoxDriver.prototype.findElement (file:///c:/users/gee/appdata/local/temp/tmp5s0gnw/extensions/fxdriver@googlecode.com/components/driver-component.js:10732)\n    at DelayedCommand.prototype.executeInternal_/h (file:///c:/users/gee/appdata/local/temp/tmp5s0gnw/extensions/fxdriver@googlecode.com/components/command-processor.js:12614)\n    at DelayedCommand.prototype.executeInternal_ (file:///c:/users/gee/appdata/local/temp/tmp5s0gnw/extensions/fxdriver@googlecode.com/components/command-processor.js:12619)\n    at DelayedCommand.prototype.execute/< (file:///c:/users/gee/appdata/local/temp/tmp5s0gnw/extensions/fxdriver@googlecode.com/components/command-processor.js:12561)",
     "output_type": "error",
     "traceback": [
      "\u001b[1;31m---------------------------------------------------------------------------\u001b[0m",
      "\u001b[1;31mNoSuchElementException\u001b[0m                    Traceback (most recent call last)",
      "\u001b[1;32m<ipython-input-12-e086cbfe5a2a>\u001b[0m in \u001b[0;36m<module>\u001b[1;34m()\u001b[0m\n\u001b[1;32m----> 1\u001b[1;33m \u001b[0minput_element\u001b[0m \u001b[1;33m=\u001b[0m \u001b[0mdriver\u001b[0m\u001b[1;33m.\u001b[0m\u001b[0mfind_element_by_css_selector\u001b[0m\u001b[1;33m(\u001b[0m\u001b[1;34m\"div#home-component input.form-control\"\u001b[0m\u001b[1;33m)\u001b[0m\u001b[1;33m\u001b[0m\u001b[0m\n\u001b[0m",
      "\u001b[1;32mC:\\Anaconda2\\lib\\site-packages\\selenium\\webdriver\\remote\\webdriver.pyc\u001b[0m in \u001b[0;36mfind_element_by_css_selector\u001b[1;34m(self, css_selector)\u001b[0m\n\u001b[0;32m    400\u001b[0m             \u001b[0mdriver\u001b[0m\u001b[1;33m.\u001b[0m\u001b[0mfind_element_by_css_selector\u001b[0m\u001b[1;33m(\u001b[0m\u001b[1;34m'#foo'\u001b[0m\u001b[1;33m)\u001b[0m\u001b[1;33m\u001b[0m\u001b[0m\n\u001b[0;32m    401\u001b[0m         \"\"\"\n\u001b[1;32m--> 402\u001b[1;33m         \u001b[1;32mreturn\u001b[0m \u001b[0mself\u001b[0m\u001b[1;33m.\u001b[0m\u001b[0mfind_element\u001b[0m\u001b[1;33m(\u001b[0m\u001b[0mby\u001b[0m\u001b[1;33m=\u001b[0m\u001b[0mBy\u001b[0m\u001b[1;33m.\u001b[0m\u001b[0mCSS_SELECTOR\u001b[0m\u001b[1;33m,\u001b[0m \u001b[0mvalue\u001b[0m\u001b[1;33m=\u001b[0m\u001b[0mcss_selector\u001b[0m\u001b[1;33m)\u001b[0m\u001b[1;33m\u001b[0m\u001b[0m\n\u001b[0m\u001b[0;32m    403\u001b[0m \u001b[1;33m\u001b[0m\u001b[0m\n\u001b[0;32m    404\u001b[0m     \u001b[1;32mdef\u001b[0m \u001b[0mfind_elements_by_css_selector\u001b[0m\u001b[1;33m(\u001b[0m\u001b[0mself\u001b[0m\u001b[1;33m,\u001b[0m \u001b[0mcss_selector\u001b[0m\u001b[1;33m)\u001b[0m\u001b[1;33m:\u001b[0m\u001b[1;33m\u001b[0m\u001b[0m\n",
      "\u001b[1;32mC:\\Anaconda2\\lib\\site-packages\\selenium\\webdriver\\remote\\webdriver.pyc\u001b[0m in \u001b[0;36mfind_element\u001b[1;34m(self, by, value)\u001b[0m\n\u001b[0;32m    710\u001b[0m                 \u001b[0mvalue\u001b[0m \u001b[1;33m=\u001b[0m \u001b[1;34m'[name=\"%s\"]'\u001b[0m \u001b[1;33m%\u001b[0m \u001b[0mvalue\u001b[0m\u001b[1;33m\u001b[0m\u001b[0m\n\u001b[0;32m    711\u001b[0m         return self.execute(Command.FIND_ELEMENT,\n\u001b[1;32m--> 712\u001b[1;33m                              {'using': by, 'value': value})['value']\n\u001b[0m\u001b[0;32m    713\u001b[0m \u001b[1;33m\u001b[0m\u001b[0m\n\u001b[0;32m    714\u001b[0m     \u001b[1;32mdef\u001b[0m \u001b[0mfind_elements\u001b[0m\u001b[1;33m(\u001b[0m\u001b[0mself\u001b[0m\u001b[1;33m,\u001b[0m \u001b[0mby\u001b[0m\u001b[1;33m=\u001b[0m\u001b[0mBy\u001b[0m\u001b[1;33m.\u001b[0m\u001b[0mID\u001b[0m\u001b[1;33m,\u001b[0m \u001b[0mvalue\u001b[0m\u001b[1;33m=\u001b[0m\u001b[0mNone\u001b[0m\u001b[1;33m)\u001b[0m\u001b[1;33m:\u001b[0m\u001b[1;33m\u001b[0m\u001b[0m\n",
      "\u001b[1;32mC:\\Anaconda2\\lib\\site-packages\\selenium\\webdriver\\remote\\webdriver.pyc\u001b[0m in \u001b[0;36mexecute\u001b[1;34m(self, driver_command, params)\u001b[0m\n\u001b[0;32m    199\u001b[0m         \u001b[0mresponse\u001b[0m \u001b[1;33m=\u001b[0m \u001b[0mself\u001b[0m\u001b[1;33m.\u001b[0m\u001b[0mcommand_executor\u001b[0m\u001b[1;33m.\u001b[0m\u001b[0mexecute\u001b[0m\u001b[1;33m(\u001b[0m\u001b[0mdriver_command\u001b[0m\u001b[1;33m,\u001b[0m \u001b[0mparams\u001b[0m\u001b[1;33m)\u001b[0m\u001b[1;33m\u001b[0m\u001b[0m\n\u001b[0;32m    200\u001b[0m         \u001b[1;32mif\u001b[0m \u001b[0mresponse\u001b[0m\u001b[1;33m:\u001b[0m\u001b[1;33m\u001b[0m\u001b[0m\n\u001b[1;32m--> 201\u001b[1;33m             \u001b[0mself\u001b[0m\u001b[1;33m.\u001b[0m\u001b[0merror_handler\u001b[0m\u001b[1;33m.\u001b[0m\u001b[0mcheck_response\u001b[0m\u001b[1;33m(\u001b[0m\u001b[0mresponse\u001b[0m\u001b[1;33m)\u001b[0m\u001b[1;33m\u001b[0m\u001b[0m\n\u001b[0m\u001b[0;32m    202\u001b[0m             response['value'] = self._unwrap_value(\n\u001b[0;32m    203\u001b[0m                 response.get('value', None))\n",
      "\u001b[1;32mC:\\Anaconda2\\lib\\site-packages\\selenium\\webdriver\\remote\\errorhandler.pyc\u001b[0m in \u001b[0;36mcheck_response\u001b[1;34m(self, response)\u001b[0m\n\u001b[0;32m    192\u001b[0m         \u001b[1;32melif\u001b[0m \u001b[0mexception_class\u001b[0m \u001b[1;33m==\u001b[0m \u001b[0mUnexpectedAlertPresentException\u001b[0m \u001b[1;32mand\u001b[0m \u001b[1;34m'alert'\u001b[0m \u001b[1;32min\u001b[0m \u001b[0mvalue\u001b[0m\u001b[1;33m:\u001b[0m\u001b[1;33m\u001b[0m\u001b[0m\n\u001b[0;32m    193\u001b[0m             \u001b[1;32mraise\u001b[0m \u001b[0mexception_class\u001b[0m\u001b[1;33m(\u001b[0m\u001b[0mmessage\u001b[0m\u001b[1;33m,\u001b[0m \u001b[0mscreen\u001b[0m\u001b[1;33m,\u001b[0m \u001b[0mstacktrace\u001b[0m\u001b[1;33m,\u001b[0m \u001b[0mvalue\u001b[0m\u001b[1;33m[\u001b[0m\u001b[1;34m'alert'\u001b[0m\u001b[1;33m]\u001b[0m\u001b[1;33m.\u001b[0m\u001b[0mget\u001b[0m\u001b[1;33m(\u001b[0m\u001b[1;34m'text'\u001b[0m\u001b[1;33m)\u001b[0m\u001b[1;33m)\u001b[0m\u001b[1;33m\u001b[0m\u001b[0m\n\u001b[1;32m--> 194\u001b[1;33m         \u001b[1;32mraise\u001b[0m \u001b[0mexception_class\u001b[0m\u001b[1;33m(\u001b[0m\u001b[0mmessage\u001b[0m\u001b[1;33m,\u001b[0m \u001b[0mscreen\u001b[0m\u001b[1;33m,\u001b[0m \u001b[0mstacktrace\u001b[0m\u001b[1;33m)\u001b[0m\u001b[1;33m\u001b[0m\u001b[0m\n\u001b[0m\u001b[0;32m    195\u001b[0m \u001b[1;33m\u001b[0m\u001b[0m\n\u001b[0;32m    196\u001b[0m     \u001b[1;32mdef\u001b[0m \u001b[0m_value_or_default\u001b[0m\u001b[1;33m(\u001b[0m\u001b[0mself\u001b[0m\u001b[1;33m,\u001b[0m \u001b[0mobj\u001b[0m\u001b[1;33m,\u001b[0m \u001b[0mkey\u001b[0m\u001b[1;33m,\u001b[0m \u001b[0mdefault\u001b[0m\u001b[1;33m)\u001b[0m\u001b[1;33m:\u001b[0m\u001b[1;33m\u001b[0m\u001b[0m\n",
      "\u001b[1;31mNoSuchElementException\u001b[0m: Message: Unable to locate element: {\"method\":\"css selector\",\"selector\":\"div#home-component input.form-control\"}\nStacktrace:\n    at FirefoxDriver.prototype.findElementInternal_ (file:///c:/users/gee/appdata/local/temp/tmp5s0gnw/extensions/fxdriver@googlecode.com/components/driver-component.js:10723)\n    at FirefoxDriver.prototype.findElement (file:///c:/users/gee/appdata/local/temp/tmp5s0gnw/extensions/fxdriver@googlecode.com/components/driver-component.js:10732)\n    at DelayedCommand.prototype.executeInternal_/h (file:///c:/users/gee/appdata/local/temp/tmp5s0gnw/extensions/fxdriver@googlecode.com/components/command-processor.js:12614)\n    at DelayedCommand.prototype.executeInternal_ (file:///c:/users/gee/appdata/local/temp/tmp5s0gnw/extensions/fxdriver@googlecode.com/components/command-processor.js:12619)\n    at DelayedCommand.prototype.execute/< (file:///c:/users/gee/appdata/local/temp/tmp5s0gnw/extensions/fxdriver@googlecode.com/components/command-processor.js:12561)"
     ]
    }
   ],
   "source": [
    "# input_element = driver.find_element_by_css_selector(\"div#home-component input.form-control\") "
   ]
  },
  {
   "cell_type": "markdown",
   "metadata": {},
   "source": [
    "* 중고나라"
   ]
  },
  {
   "cell_type": "code",
   "execution_count": 17,
   "metadata": {
    "collapsed": true
   },
   "outputs": [],
   "source": [
    "driver = webdriver.Firefox()"
   ]
  },
  {
   "cell_type": "code",
   "execution_count": 18,
   "metadata": {
    "collapsed": false
   },
   "outputs": [],
   "source": [
    "driver.get(\"http://cafe.naver.com/joonggonara\")"
   ]
  },
  {
   "cell_type": "code",
   "execution_count": 19,
   "metadata": {
    "collapsed": true
   },
   "outputs": [],
   "source": [
    "driver.find_element_by_css_selector(\"#topLayerQueryInput\").send_keys(u\"맥북 프로\")"
   ]
  },
  {
   "cell_type": "code",
   "execution_count": 20,
   "metadata": {
    "collapsed": true
   },
   "outputs": [],
   "source": [
    "driver.execute_script(\"searchBoard()\") # search board 실행하면 검색"
   ]
  },
  {
   "cell_type": "code",
   "execution_count": 21,
   "metadata": {
    "collapsed": true
   },
   "outputs": [],
   "source": [
    "title_element = \\\n",
    "driver.find_elements_by_css_selector(\"a.m-tcol-c\")"
   ]
  },
  {
   "cell_type": "code",
   "execution_count": 22,
   "metadata": {
    "collapsed": false
   },
   "outputs": [
    {
     "data": {
      "text/plain": [
       "0"
      ]
     },
     "execution_count": 22,
     "metadata": {},
     "output_type": "execute_result"
    }
   ],
   "source": [
    "len(title_element)"
   ]
  },
  {
   "cell_type": "code",
   "execution_count": 23,
   "metadata": {
    "collapsed": true
   },
   "outputs": [],
   "source": [
    "# composed of 2 pages: 1 main page, 1 iframe page\n",
    "# one that you are seeing witht python is main page\n",
    "# need to change to the page we want to crawl\n",
    "\n",
    "iframe_element = driver.find_element_by_css_selector(\n",
    "    \"iframe#cafe_main\"\n",
    ")"
   ]
  },
  {
   "cell_type": "code",
   "execution_count": 24,
   "metadata": {
    "collapsed": true
   },
   "outputs": [],
   "source": [
    "# focus 옮기기\n",
    "driver.switch_to_frame(iframe_element)"
   ]
  },
  {
   "cell_type": "code",
   "execution_count": 25,
   "metadata": {
    "collapsed": true
   },
   "outputs": [],
   "source": [
    "title_elements = \\\n",
    "driver.find_elements_by_css_selector(\"a.m-tcol-c\")"
   ]
  },
  {
   "cell_type": "code",
   "execution_count": 26,
   "metadata": {
    "collapsed": false
   },
   "outputs": [
    {
     "data": {
      "text/plain": [
       "61"
      ]
     },
     "execution_count": 26,
     "metadata": {},
     "output_type": "execute_result"
    }
   ],
   "source": [
    "len(title_elements)"
   ]
  },
  {
   "cell_type": "code",
   "execution_count": 27,
   "metadata": {
    "collapsed": true
   },
   "outputs": [
    {
     "name": "stdout",
     "output_type": "stream",
     "text": [
      "상세검색\n",
      "<img src=\"http://cafeimgs.naver.net/cafe4/btn_help.gif\" class=\"_ly2_help:0\" alt=\"도움말\" height=\"14\" width=\"14\">\n",
      "<img src=\"http://cafeimgs.naver.net/cafe4/btn_help.gif\" class=\"_ly2_help:1\" alt=\"도움말\" height=\"14\" width=\"14\">\n",
      "<img src=\"http://cafeimgs.naver.net/cafe4/btn_help.gif\" class=\"_ly2_help:2\" alt=\"도움말\" height=\"14\" width=\"14\">\n",
      "<img src=\"http://cafeimgs.naver.net/cafe4/btn_help.gif\" class=\"_ly2_help:3\" alt=\"도움말\" height=\"14\" width=\"14\">\n",
      "초기화\n",
      "\n",
      "\t\t\t전체 게시물\n",
      "        \n",
      "\n",
      "            최신순\n",
      "          \n",
      "제목만 보기\n",
      "제목+내용 보기\n",
      "<span>15</span>개씩\n",
      "<span>5</span>개씩\n",
      "<span>10</span>개씩\n",
      "<span>20</span>개씩\n",
      "<span>30</span>개씩\n",
      "<span>40</span>개씩\n",
      "<span>50</span>개씩\n",
      "(MF840KH/A)<b>맥북 프로</b> 2015 13인치 256GB 모델 팝니다.\n",
      "<span class=\"wordbreak\" id=\"article_pes7244_0\">겸​둥​쑤​니​<img src=\"http://cafeimgs.naver.net/levelicon/1/1_110.gif\" alt=\"\" class=\"mem-level\" height=\"11\" width=\"11\"></span>\n",
      "2015 <b>맥북 프로</b> 13인치 중급형 mf840kh/a 미개봉 또는 상태좋은 중고 삽니다.\n",
      "<span class=\"wordbreak\" id=\"article_wlgns7777777_1\">엘​<img src=\"http://cafeimgs.naver.net/levelicon/1/1_110.gif\" alt=\"\" class=\"mem-level\" height=\"11\" width=\"11\"></span>\n",
      "<b>맥북프로</b>레티나 2015 13인치 중급형 팝니다.\n",
      "<span class=\"wordbreak\" id=\"article_qkrxp2_2\">F​O​R​T​R​A​N​<img src=\"http://cafeimgs.naver.net/levelicon/1/1_110.gif\" alt=\"\" class=\"mem-level\" height=\"11\" width=\"11\"></span>\n",
      "<b>맥북프로</b>레티나13인치 5일전매장구매상품 급하게팔아요?????\n",
      "<span class=\"wordbreak\" id=\"article_simon4359_3\">s​i​m​o​n​4​3​5​9​<img src=\"http://cafeimgs.naver.net/levelicon/1/1_110.gif\" alt=\"\" class=\"mem-level\" height=\"11\" width=\"11\"></span>\n",
      "MacBook Pro a1278 MID 2010 상태좋은 <b>맥북프로</b> 판매합니다.\n",
      "<span class=\"wordbreak\" id=\"article_cnsdmlehd79_4\">클​라​우​트​<img src=\"http://cafeimgs.naver.net/levelicon/1/1_110.gif\" alt=\"\" class=\"mem-level\" height=\"11\" width=\"11\"></span>\n",
      "2015년 <b>맥북프로</b> 13인치 중급형 판매합니다\n",
      "<span class=\"wordbreak\" id=\"article_chiahty0210_5\">곰​메​기​<img src=\"http://cafeimgs.naver.net/levelicon/1/1_110.gif\" alt=\"\" class=\"mem-level\" height=\"11\" width=\"11\"></span>\n",
      "2014 <b>맥북 프로</b> 레티나 13인치팝니다.(ssd:128,RAM:8)\n",
      "<span class=\"wordbreak\" id=\"article_soonjae8707_6\">s​o​o​n​j​a​e​8​7​0​7​<img src=\"http://cafeimgs.naver.net/levelicon/1/1_110.gif\" alt=\"\" class=\"mem-level\" height=\"11\" width=\"11\"></span>\n",
      "15년형 <b>맥북프로</b> 레티나 13인치 팝니다\n",
      "<span class=\"wordbreak\" id=\"article_theran_7\">중​고​파​바​팝​<img src=\"http://cafeimgs.naver.net/levelicon/1/1_110.gif\" alt=\"\" class=\"mem-level\" height=\"11\" width=\"11\"></span>\n",
      "2015 <b>맥북프로</b>레티나 15인치(기본형) 구매합니다\n",
      "<span class=\"wordbreak\" id=\"article_tmdanr103_8\">무​크​<img src=\"http://cafeimgs.naver.net/levelicon/1/1_110.gif\" alt=\"\" class=\"mem-level\" height=\"11\" width=\"11\"></span>\n",
      "<b>맥북 프로</b> 레티나 (MF840KH/A)미개봉 입니다 맥북MF840KH/A\n",
      "<span class=\"wordbreak\" id=\"article_skycool7979_9\">박​군​이​양​<img src=\"http://cafeimgs.naver.net/levelicon/1/1_110.gif\" alt=\"\" class=\"mem-level\" height=\"11\" width=\"11\"></span>\n",
      "<b>맥북프로</b> 레티나 2014mid 팝니다!!!\n",
      "<span class=\"wordbreak\" id=\"article_dud5438_10\">F​l​y​ ​E​m​i​r​a​t​e​s​ ​A​i​r​<img src=\"http://cafeimgs.naver.net/levelicon/1/1_110.gif\" alt=\"\" class=\"mem-level\" height=\"11\" width=\"11\"></span>\n",
      "애플 <b>맥북프로</b> MJLQ2KH/A 미개봉 판매합니다.\n",
      "<span class=\"wordbreak\" id=\"article_wind3820_11\">스​뎅​이​<img src=\"http://cafeimgs.naver.net/levelicon/1/1_110.gif\" alt=\"\" class=\"mem-level\" height=\"11\" width=\"11\"></span>\n",
      "<b>맥북프로</b>레티나13인치 5일전구매상품 급하게팔아요?????\n",
      "<span class=\"wordbreak\" id=\"article_simon4359_12\">s​i​m​o​n​4​3​5​9​<img src=\"http://cafeimgs.naver.net/levelicon/1/1_110.gif\" alt=\"\" class=\"mem-level\" height=\"11\" width=\"11\"></span>\n",
      "<b>맥북프로</b>13인치 early 2011 ssd256\n",
      "<span class=\"wordbreak\" id=\"article_knightayj_13\">k​n​i​g​h​t​a​y​j​<img src=\"http://cafeimgs.naver.net/levelicon/1/1_110.gif\" alt=\"\" class=\"mem-level\" height=\"11\" width=\"11\"></span>\n",
      "<b>맥북프로</b> 2011 박스풀셋 42만원\n",
      "<span class=\"wordbreak\" id=\"article_brilliance3_14\">멍​머​야​<img src=\"http://cafeimgs.naver.net/levelicon/1/1_110.gif\" alt=\"\" class=\"mem-level\" height=\"11\" width=\"11\"></span>\n",
      "2\n",
      "3\n",
      "4\n",
      "5\n",
      "6\n",
      "7\n",
      "8\n",
      "9\n",
      "10\n",
      "<span>다음</span><span class=\"ico-bl ico\">▶</span>\n",
      "이미지\n",
      "동영상\n",
      "정확도순\n",
      "제목+내용 보기\n"
     ]
    }
   ],
   "source": [
    "for title_element in title_elements:\n",
    "    print(title_element.get_attribute(\"innerHTML\"))"
   ]
  },
  {
   "cell_type": "code",
   "execution_count": 28,
   "metadata": {
    "collapsed": true
   },
   "outputs": [
    {
     "name": "stdout",
     "output_type": "stream",
     "text": [
      "http://cafe.naver.com/ArticleSearchList.nhn?search.clubid=10050146&search.searchBy=0&search.query=%B8%C6%BA%CF+%C7%C1%B7%CE#\n",
      "http://cafe.naver.com/ArticleSearchList.nhn?search.clubid=10050146&search.searchBy=0&search.query=%B8%C6%BA%CF+%C7%C1%B7%CE#\n",
      "http://cafe.naver.com/ArticleSearchList.nhn?search.clubid=10050146&search.searchBy=0&search.query=%B8%C6%BA%CF+%C7%C1%B7%CE#\n",
      "http://cafe.naver.com/ArticleSearchList.nhn?search.clubid=10050146&search.searchBy=0&search.query=%B8%C6%BA%CF+%C7%C1%B7%CE#\n",
      "http://cafe.naver.com/ArticleSearchList.nhn?search.clubid=10050146&search.searchBy=0&search.query=%B8%C6%BA%CF+%C7%C1%B7%CE#\n",
      "http://cafe.naver.com/ArticleSearchList.nhn?search.clubid=10050146&search.searchBy=0&search.query=%B8%C6%BA%CF+%C7%C1%B7%CE#\n",
      "http://cafe.naver.com/ArticleSearchList.nhn?search.clubid=10050146&search.searchBy=0&search.query=%B8%C6%BA%CF+%C7%C1%B7%CE#\n",
      "http://cafe.naver.com/ArticleSearchList.nhn?search.clubid=10050146&search.searchBy=0&search.query=%B8%C6%BA%CF+%C7%C1%B7%CE#\n",
      "http://cafe.naver.com/ArticleSearchList.nhn?search.clubid=10050146&search.searchBy=0&search.query=%B8%C6%BA%CF+%C7%C1%B7%CE#\n",
      "http://cafe.naver.com/ArticleSearchList.nhn?search.clubid=10050146&search.searchBy=0&search.query=%B8%C6%BA%CF+%C7%C1%B7%CE#\n",
      "http://cafe.naver.com/ArticleSearchList.nhn?search.clubid=10050146&search.searchBy=0&search.query=%B8%C6%BA%CF+%C7%C1%B7%CE#\n",
      "http://cafe.naver.com/ArticleSearchList.nhn?search.clubid=10050146&search.searchBy=0&search.query=%B8%C6%BA%CF+%C7%C1%B7%CE#\n",
      "http://cafe.naver.com/ArticleSearchList.nhn?search.clubid=10050146&search.searchBy=0&search.query=%B8%C6%BA%CF+%C7%C1%B7%CE#\n",
      "http://cafe.naver.com/ArticleSearchList.nhn?search.clubid=10050146&search.searchBy=0&search.query=%B8%C6%BA%CF+%C7%C1%B7%CE#\n",
      "http://cafe.naver.com/ArticleSearchList.nhn?search.clubid=10050146&search.searchBy=0&search.query=%B8%C6%BA%CF+%C7%C1%B7%CE#\n",
      "http://cafe.naver.com/ArticleSearchList.nhn?search.clubid=10050146&search.searchBy=0&search.query=%B8%C6%BA%CF+%C7%C1%B7%CE#\n",
      "http://cafe.naver.com/ArticleSearchList.nhn?search.clubid=10050146&search.searchBy=0&search.query=%B8%C6%BA%CF+%C7%C1%B7%CE#\n",
      "http://cafe.naver.com/ArticleRead.nhn?clubid=10050146&page=1&inCafeSearch=true&searchBy=1&query=%B8%C6%BA%CF+%C7%C1%B7%CE&includeAll=&exclude=&include=&exact=&searchdate=all&media=0&sortBy=date&articleid=306921173&referrerAllArticles=true\n",
      "http://cafe.naver.com/ArticleSearchList.nhn?search.clubid=10050146&search.searchBy=0&search.query=%B8%C6%BA%CF+%C7%C1%B7%CE#\n",
      "http://cafe.naver.com/ArticleRead.nhn?clubid=10050146&page=1&inCafeSearch=true&searchBy=1&query=%B8%C6%BA%CF+%C7%C1%B7%CE&includeAll=&exclude=&include=&exact=&searchdate=all&media=0&sortBy=date&articleid=306920863&referrerAllArticles=true\n",
      "http://cafe.naver.com/ArticleSearchList.nhn?search.clubid=10050146&search.searchBy=0&search.query=%B8%C6%BA%CF+%C7%C1%B7%CE#\n",
      "http://cafe.naver.com/ArticleRead.nhn?clubid=10050146&page=1&inCafeSearch=true&searchBy=1&query=%B8%C6%BA%CF+%C7%C1%B7%CE&includeAll=&exclude=&include=&exact=&searchdate=all&media=0&sortBy=date&articleid=306920828&referrerAllArticles=true\n",
      "http://cafe.naver.com/ArticleSearchList.nhn?search.clubid=10050146&search.searchBy=0&search.query=%B8%C6%BA%CF+%C7%C1%B7%CE#\n",
      "http://cafe.naver.com/ArticleRead.nhn?clubid=10050146&page=1&inCafeSearch=true&searchBy=1&query=%B8%C6%BA%CF+%C7%C1%B7%CE&includeAll=&exclude=&include=&exact=&searchdate=all&media=0&sortBy=date&articleid=306919803&referrerAllArticles=true\n",
      "http://cafe.naver.com/ArticleSearchList.nhn?search.clubid=10050146&search.searchBy=0&search.query=%B8%C6%BA%CF+%C7%C1%B7%CE#\n",
      "http://cafe.naver.com/ArticleRead.nhn?clubid=10050146&page=1&inCafeSearch=true&searchBy=1&query=%B8%C6%BA%CF+%C7%C1%B7%CE&includeAll=&exclude=&include=&exact=&searchdate=all&media=0&sortBy=date&articleid=306917527&referrerAllArticles=true\n",
      "http://cafe.naver.com/ArticleSearchList.nhn?search.clubid=10050146&search.searchBy=0&search.query=%B8%C6%BA%CF+%C7%C1%B7%CE#\n",
      "http://cafe.naver.com/ArticleRead.nhn?clubid=10050146&page=1&inCafeSearch=true&searchBy=1&query=%B8%C6%BA%CF+%C7%C1%B7%CE&includeAll=&exclude=&include=&exact=&searchdate=all&media=0&sortBy=date&articleid=306917053&referrerAllArticles=true\n",
      "http://cafe.naver.com/ArticleSearchList.nhn?search.clubid=10050146&search.searchBy=0&search.query=%B8%C6%BA%CF+%C7%C1%B7%CE#\n",
      "http://cafe.naver.com/ArticleRead.nhn?clubid=10050146&page=1&inCafeSearch=true&searchBy=1&query=%B8%C6%BA%CF+%C7%C1%B7%CE&includeAll=&exclude=&include=&exact=&searchdate=all&media=0&sortBy=date&articleid=306916965&referrerAllArticles=true\n",
      "http://cafe.naver.com/ArticleSearchList.nhn?search.clubid=10050146&search.searchBy=0&search.query=%B8%C6%BA%CF+%C7%C1%B7%CE#\n",
      "http://cafe.naver.com/ArticleRead.nhn?clubid=10050146&page=1&inCafeSearch=true&searchBy=1&query=%B8%C6%BA%CF+%C7%C1%B7%CE&includeAll=&exclude=&include=&exact=&searchdate=all&media=0&sortBy=date&articleid=306916725&referrerAllArticles=true\n",
      "http://cafe.naver.com/ArticleSearchList.nhn?search.clubid=10050146&search.searchBy=0&search.query=%B8%C6%BA%CF+%C7%C1%B7%CE#\n",
      "http://cafe.naver.com/ArticleRead.nhn?clubid=10050146&page=1&inCafeSearch=true&searchBy=1&query=%B8%C6%BA%CF+%C7%C1%B7%CE&includeAll=&exclude=&include=&exact=&searchdate=all&media=0&sortBy=date&articleid=306909469&referrerAllArticles=true\n",
      "http://cafe.naver.com/ArticleSearchList.nhn?search.clubid=10050146&search.searchBy=0&search.query=%B8%C6%BA%CF+%C7%C1%B7%CE#\n",
      "http://cafe.naver.com/ArticleRead.nhn?clubid=10050146&page=1&inCafeSearch=true&searchBy=1&query=%B8%C6%BA%CF+%C7%C1%B7%CE&includeAll=&exclude=&include=&exact=&searchdate=all&media=0&sortBy=date&articleid=306906377&referrerAllArticles=true\n",
      "http://cafe.naver.com/ArticleSearchList.nhn?search.clubid=10050146&search.searchBy=0&search.query=%B8%C6%BA%CF+%C7%C1%B7%CE#\n",
      "http://cafe.naver.com/ArticleRead.nhn?clubid=10050146&page=1&inCafeSearch=true&searchBy=1&query=%B8%C6%BA%CF+%C7%C1%B7%CE&includeAll=&exclude=&include=&exact=&searchdate=all&media=0&sortBy=date&articleid=306906342&referrerAllArticles=true\n",
      "http://cafe.naver.com/ArticleSearchList.nhn?search.clubid=10050146&search.searchBy=0&search.query=%B8%C6%BA%CF+%C7%C1%B7%CE#\n",
      "http://cafe.naver.com/ArticleRead.nhn?clubid=10050146&page=1&inCafeSearch=true&searchBy=1&query=%B8%C6%BA%CF+%C7%C1%B7%CE&includeAll=&exclude=&include=&exact=&searchdate=all&media=0&sortBy=date&articleid=306905430&referrerAllArticles=true\n",
      "http://cafe.naver.com/ArticleSearchList.nhn?search.clubid=10050146&search.searchBy=0&search.query=%B8%C6%BA%CF+%C7%C1%B7%CE#\n",
      "http://cafe.naver.com/ArticleRead.nhn?clubid=10050146&page=1&inCafeSearch=true&searchBy=1&query=%B8%C6%BA%CF+%C7%C1%B7%CE&includeAll=&exclude=&include=&exact=&searchdate=all&media=0&sortBy=date&articleid=306905378&referrerAllArticles=true\n",
      "http://cafe.naver.com/ArticleSearchList.nhn?search.clubid=10050146&search.searchBy=0&search.query=%B8%C6%BA%CF+%C7%C1%B7%CE#\n",
      "http://cafe.naver.com/ArticleRead.nhn?clubid=10050146&page=1&inCafeSearch=true&searchBy=1&query=%B8%C6%BA%CF+%C7%C1%B7%CE&includeAll=&exclude=&include=&exact=&searchdate=all&media=0&sortBy=date&articleid=306903974&referrerAllArticles=true\n",
      "http://cafe.naver.com/ArticleSearchList.nhn?search.clubid=10050146&search.searchBy=0&search.query=%B8%C6%BA%CF+%C7%C1%B7%CE#\n",
      "http://cafe.naver.com/ArticleRead.nhn?clubid=10050146&page=1&inCafeSearch=true&searchBy=1&query=%B8%C6%BA%CF+%C7%C1%B7%CE&includeAll=&exclude=&include=&exact=&searchdate=all&media=0&sortBy=date&articleid=306903949&referrerAllArticles=true\n",
      "http://cafe.naver.com/ArticleSearchList.nhn?search.clubid=10050146&search.searchBy=0&search.query=%B8%C6%BA%CF+%C7%C1%B7%CE#\n",
      "http://cafe.naver.com/ArticleSearchList.nhn?search.media=0&search.searchdate=all&search.searchBy=1&search.viewtype=title&search.query=%B8%C6%BA%CF+%C7%C1%B7%CE&search.sortBy=date&userDisplay=15&search.clubid=10050146&search.page=2\n",
      "http://cafe.naver.com/ArticleSearchList.nhn?search.media=0&search.searchdate=all&search.searchBy=1&search.viewtype=title&search.query=%B8%C6%BA%CF+%C7%C1%B7%CE&search.sortBy=date&userDisplay=15&search.clubid=10050146&search.page=3\n",
      "http://cafe.naver.com/ArticleSearchList.nhn?search.media=0&search.searchdate=all&search.searchBy=1&search.viewtype=title&search.query=%B8%C6%BA%CF+%C7%C1%B7%CE&search.sortBy=date&userDisplay=15&search.clubid=10050146&search.page=4\n",
      "http://cafe.naver.com/ArticleSearchList.nhn?search.media=0&search.searchdate=all&search.searchBy=1&search.viewtype=title&search.query=%B8%C6%BA%CF+%C7%C1%B7%CE&search.sortBy=date&userDisplay=15&search.clubid=10050146&search.page=5\n",
      "http://cafe.naver.com/ArticleSearchList.nhn?search.media=0&search.searchdate=all&search.searchBy=1&search.viewtype=title&search.query=%B8%C6%BA%CF+%C7%C1%B7%CE&search.sortBy=date&userDisplay=15&search.clubid=10050146&search.page=6\n",
      "http://cafe.naver.com/ArticleSearchList.nhn?search.media=0&search.searchdate=all&search.searchBy=1&search.viewtype=title&search.query=%B8%C6%BA%CF+%C7%C1%B7%CE&search.sortBy=date&userDisplay=15&search.clubid=10050146&search.page=7\n",
      "http://cafe.naver.com/ArticleSearchList.nhn?search.media=0&search.searchdate=all&search.searchBy=1&search.viewtype=title&search.query=%B8%C6%BA%CF+%C7%C1%B7%CE&search.sortBy=date&userDisplay=15&search.clubid=10050146&search.page=8\n",
      "http://cafe.naver.com/ArticleSearchList.nhn?search.media=0&search.searchdate=all&search.searchBy=1&search.viewtype=title&search.query=%B8%C6%BA%CF+%C7%C1%B7%CE&search.sortBy=date&userDisplay=15&search.clubid=10050146&search.page=9\n",
      "http://cafe.naver.com/ArticleSearchList.nhn?search.media=0&search.searchdate=all&search.searchBy=1&search.viewtype=title&search.query=%B8%C6%BA%CF+%C7%C1%B7%CE&search.sortBy=date&userDisplay=15&search.clubid=10050146&search.page=10\n",
      "http://cafe.naver.com/ArticleSearchList.nhn?search.media=0&search.searchdate=all&search.searchBy=1&search.viewtype=title&search.query=%B8%C6%BA%CF+%C7%C1%B7%CE&search.sortBy=date&userDisplay=15&search.clubid=10050146&search.page=11\n",
      "http://cafe.naver.com/ArticleSearchList.nhn?search.clubid=10050146&search.searchBy=0&search.query=%B8%C6%BA%CF+%C7%C1%B7%CE#\n",
      "http://cafe.naver.com/ArticleSearchList.nhn?search.clubid=10050146&search.searchBy=0&search.query=%B8%C6%BA%CF+%C7%C1%B7%CE#\n",
      "http://cafe.naver.com/ArticleSearchList.nhn?search.clubid=10050146&search.searchBy=0&search.query=%B8%C6%BA%CF+%C7%C1%B7%CE#\n",
      "http://cafe.naver.com/ArticleSearchList.nhn?search.clubid=10050146&search.searchBy=0&search.query=%B8%C6%BA%CF+%C7%C1%B7%CE#\n"
     ]
    }
   ],
   "source": [
    "for title_element in title_elements:\n",
    "    print(title_element.get_attribute(\"href\"))"
   ]
  }
 ],
 "metadata": {
  "kernelspec": {
   "display_name": "Python 2",
   "language": "python",
   "name": "python2"
  },
  "language_info": {
   "codemirror_mode": {
    "name": "ipython",
    "version": 2
   },
   "file_extension": ".py",
   "mimetype": "text/x-python",
   "name": "python",
   "nbconvert_exporter": "python",
   "pygments_lexer": "ipython2",
   "version": "2.7.11"
  }
 },
 "nbformat": 4,
 "nbformat_minor": 0
}
