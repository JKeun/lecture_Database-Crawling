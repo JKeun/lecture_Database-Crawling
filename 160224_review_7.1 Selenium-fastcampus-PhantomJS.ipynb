{
 "cells": [
  {
   "cell_type": "markdown",
   "metadata": {},
   "source": [
    "### 패캠 코스 크롤링하기"
   ]
  },
  {
   "cell_type": "code",
   "execution_count": 1,
   "metadata": {
    "collapsed": true
   },
   "outputs": [],
   "source": [
    "from selenium import webdriver"
   ]
  },
  {
   "cell_type": "code",
   "execution_count": 2,
   "metadata": {
    "collapsed": true
   },
   "outputs": [],
   "source": [
    "driver = webdriver.PhantomJS()"
   ]
  },
  {
   "cell_type": "code",
   "execution_count": 3,
   "metadata": {
    "collapsed": true
   },
   "outputs": [],
   "source": [
    "driver.get('http://fastcampus.co.kr/course')"
   ]
  },
  {
   "cell_type": "code",
   "execution_count": 6,
   "metadata": {
    "collapsed": false
   },
   "outputs": [
    {
     "data": {
      "text/plain": [
       "11"
      ]
     },
     "execution_count": 6,
     "metadata": {},
     "output_type": "execute_result"
    }
   ],
   "source": [
    "# 카테고리 찾기(프로그래밍 1개)\n",
    "category_elements = driver.find_elements_by_css_selector(\n",
    "    \".wpb_row.vc_inner.vc_row.attched-false.vc_row-fluid\")\n",
    "len(category_elements)"
   ]
  },
  {
   "cell_type": "code",
   "execution_count": 27,
   "metadata": {
    "collapsed": false,
    "scrolled": true
   },
   "outputs": [
    {
     "data": {
      "text/plain": [
       "'프로그래밍'"
      ]
     },
     "execution_count": 27,
     "metadata": {},
     "output_type": "execute_result"
    }
   ],
   "source": [
    "# indexing = [3:10] (불필요한 것들 잘라내기)\n",
    "category_element = category_elements[3]\n",
    "category_name = category_element.find_element_by_css_selector(\n",
    "        \".vc_custom_heading\").text\n",
    "\n",
    "category_name"
   ]
  },
  {
   "cell_type": "code",
   "execution_count": 30,
   "metadata": {
    "collapsed": false
   },
   "outputs": [
    {
     "data": {
      "text/plain": [
       "17"
      ]
     },
     "execution_count": 30,
     "metadata": {},
     "output_type": "execute_result"
    }
   ],
   "source": [
    "## 코스찾기\n",
    "course_elements = category_element.find_elements_by_css_selector(\n",
    "        \".vc_general.vc_btn3\")\n",
    "len(course_elements)"
   ]
  },
  {
   "cell_type": "code",
   "execution_count": 34,
   "metadata": {
    "collapsed": false,
    "scrolled": false
   },
   "outputs": [
    {
     "name": "stdout",
     "output_type": "stream",
     "text": [
      "프론트엔드 디자인 CAMP (3/8~)\n",
      "반응형 웹 디자인 CAMP (3/13~)\n",
      "UNITY5 게임 제작 CAMP (3/19~)\n",
      "하이브리드 앱 개발 CAMP (3/29~)\n",
      "개발자 역량 강화를 위한 고급 알고리즘 CAMP (3/29~)\n",
      "Node.js 로 시작하는 웹 프로그래밍 CAMP (3/30~)\n",
      "VR 콘텐츠 제작 CAMP (4/2~)\n",
      "소프트웨어 테스팅 CLASS (11/17~18)\n",
      "iOS 개발 중급 CAMP (11/25~)\n",
      "웹 서비스 개발 CAMP (1/30~)\n",
      "iOS 개발 입문 CAMP (1/31~)\n",
      "파이썬으로 시작하는 웹 프로그래밍 CAMP (2/3~)\n",
      "프론트엔드 프로그래밍 입문 CAMP (2/17 ~)\n",
      "개발자 취업/이직을 위한 알고리즘 CAMP (2/22~)\n",
      "프론트엔드 실전 CAMP (3/2~)\n",
      "업무자동화를 위한 파이썬 입문 CAMP (3/2~)\n",
      "안드로이드 앱 개발 입문 CAMP (3/7~)\n"
     ]
    }
   ],
   "source": [
    "for course_element in course_elements:\n",
    "    course_name = course_element.text\n",
    "    print(course_name)"
   ]
  },
  {
   "cell_type": "code",
   "execution_count": 35,
   "metadata": {
    "collapsed": false
   },
   "outputs": [
    {
     "name": "stdout",
     "output_type": "stream",
     "text": [
      "프로그래밍 프론트엔드 디자인 CAMP (3/8~)\n",
      "프로그래밍 반응형 웹 디자인 CAMP (3/13~)\n",
      "프로그래밍 UNITY5 게임 제작 CAMP (3/19~)\n",
      "프로그래밍 하이브리드 앱 개발 CAMP (3/29~)\n",
      "프로그래밍 개발자 역량 강화를 위한 고급 알고리즘 CAMP (3/29~)\n",
      "프로그래밍 Node.js 로 시작하는 웹 프로그래밍 CAMP (3/30~)\n",
      "프로그래밍 VR 콘텐츠 제작 CAMP (4/2~)\n",
      "프로그래밍 소프트웨어 테스팅 CLASS (11/17~18)\n",
      "프로그래밍 iOS 개발 중급 CAMP (11/25~)\n",
      "프로그래밍 웹 서비스 개발 CAMP (1/30~)\n",
      "프로그래밍 iOS 개발 입문 CAMP (1/31~)\n",
      "프로그래밍 파이썬으로 시작하는 웹 프로그래밍 CAMP (2/3~)\n",
      "프로그래밍 프론트엔드 프로그래밍 입문 CAMP (2/17 ~)\n",
      "프로그래밍 개발자 취업/이직을 위한 알고리즘 CAMP (2/22~)\n",
      "프로그래밍 프론트엔드 실전 CAMP (3/2~)\n",
      "프로그래밍 업무자동화를 위한 파이썬 입문 CAMP (3/2~)\n",
      "프로그래밍 안드로이드 앱 개발 입문 CAMP (3/7~)\n",
      "데이터 사이언스 프론트엔드 디자인 CAMP (3/8~)\n",
      "데이터 사이언스 반응형 웹 디자인 CAMP (3/13~)\n",
      "데이터 사이언스 UNITY5 게임 제작 CAMP (3/19~)\n",
      "데이터 사이언스 하이브리드 앱 개발 CAMP (3/29~)\n",
      "데이터 사이언스 개발자 역량 강화를 위한 고급 알고리즘 CAMP (3/29~)\n",
      "데이터 사이언스 Node.js 로 시작하는 웹 프로그래밍 CAMP (3/30~)\n",
      "데이터 사이언스 VR 콘텐츠 제작 CAMP (4/2~)\n",
      "데이터 사이언스 소프트웨어 테스팅 CLASS (11/17~18)\n",
      "데이터 사이언스 iOS 개발 중급 CAMP (11/25~)\n",
      "데이터 사이언스 웹 서비스 개발 CAMP (1/30~)\n",
      "데이터 사이언스 iOS 개발 입문 CAMP (1/31~)\n",
      "데이터 사이언스 파이썬으로 시작하는 웹 프로그래밍 CAMP (2/3~)\n",
      "데이터 사이언스 프론트엔드 프로그래밍 입문 CAMP (2/17 ~)\n",
      "데이터 사이언스 개발자 취업/이직을 위한 알고리즘 CAMP (2/22~)\n",
      "데이터 사이언스 프론트엔드 실전 CAMP (3/2~)\n",
      "데이터 사이언스 업무자동화를 위한 파이썬 입문 CAMP (3/2~)\n",
      "데이터 사이언스 안드로이드 앱 개발 입문 CAMP (3/7~)\n",
      "크리에이티브 프론트엔드 디자인 CAMP (3/8~)\n",
      "크리에이티브 반응형 웹 디자인 CAMP (3/13~)\n",
      "크리에이티브 UNITY5 게임 제작 CAMP (3/19~)\n",
      "크리에이티브 하이브리드 앱 개발 CAMP (3/29~)\n",
      "크리에이티브 개발자 역량 강화를 위한 고급 알고리즘 CAMP (3/29~)\n",
      "크리에이티브 Node.js 로 시작하는 웹 프로그래밍 CAMP (3/30~)\n",
      "크리에이티브 VR 콘텐츠 제작 CAMP (4/2~)\n",
      "크리에이티브 소프트웨어 테스팅 CLASS (11/17~18)\n",
      "크리에이티브 iOS 개발 중급 CAMP (11/25~)\n",
      "크리에이티브 웹 서비스 개발 CAMP (1/30~)\n",
      "크리에이티브 iOS 개발 입문 CAMP (1/31~)\n",
      "크리에이티브 파이썬으로 시작하는 웹 프로그래밍 CAMP (2/3~)\n",
      "크리에이티브 프론트엔드 프로그래밍 입문 CAMP (2/17 ~)\n",
      "크리에이티브 개발자 취업/이직을 위한 알고리즘 CAMP (2/22~)\n",
      "크리에이티브 프론트엔드 실전 CAMP (3/2~)\n",
      "크리에이티브 업무자동화를 위한 파이썬 입문 CAMP (3/2~)\n",
      "크리에이티브 안드로이드 앱 개발 입문 CAMP (3/7~)\n",
      "비즈니스 프론트엔드 디자인 CAMP (3/8~)\n",
      "비즈니스 반응형 웹 디자인 CAMP (3/13~)\n",
      "비즈니스 UNITY5 게임 제작 CAMP (3/19~)\n",
      "비즈니스 하이브리드 앱 개발 CAMP (3/29~)\n",
      "비즈니스 개발자 역량 강화를 위한 고급 알고리즘 CAMP (3/29~)\n",
      "비즈니스 Node.js 로 시작하는 웹 프로그래밍 CAMP (3/30~)\n",
      "비즈니스 VR 콘텐츠 제작 CAMP (4/2~)\n",
      "비즈니스 소프트웨어 테스팅 CLASS (11/17~18)\n",
      "비즈니스 iOS 개발 중급 CAMP (11/25~)\n",
      "비즈니스 웹 서비스 개발 CAMP (1/30~)\n",
      "비즈니스 iOS 개발 입문 CAMP (1/31~)\n",
      "비즈니스 파이썬으로 시작하는 웹 프로그래밍 CAMP (2/3~)\n",
      "비즈니스 프론트엔드 프로그래밍 입문 CAMP (2/17 ~)\n",
      "비즈니스 개발자 취업/이직을 위한 알고리즘 CAMP (2/22~)\n",
      "비즈니스 프론트엔드 실전 CAMP (3/2~)\n",
      "비즈니스 업무자동화를 위한 파이썬 입문 CAMP (3/2~)\n",
      "비즈니스 안드로이드 앱 개발 입문 CAMP (3/7~)\n",
      "스타트업 프론트엔드 디자인 CAMP (3/8~)\n",
      "스타트업 반응형 웹 디자인 CAMP (3/13~)\n",
      "스타트업 UNITY5 게임 제작 CAMP (3/19~)\n",
      "스타트업 하이브리드 앱 개발 CAMP (3/29~)\n",
      "스타트업 개발자 역량 강화를 위한 고급 알고리즘 CAMP (3/29~)\n",
      "스타트업 Node.js 로 시작하는 웹 프로그래밍 CAMP (3/30~)\n",
      "스타트업 VR 콘텐츠 제작 CAMP (4/2~)\n",
      "스타트업 소프트웨어 테스팅 CLASS (11/17~18)\n",
      "스타트업 iOS 개발 중급 CAMP (11/25~)\n",
      "스타트업 웹 서비스 개발 CAMP (1/30~)\n",
      "스타트업 iOS 개발 입문 CAMP (1/31~)\n",
      "스타트업 파이썬으로 시작하는 웹 프로그래밍 CAMP (2/3~)\n",
      "스타트업 프론트엔드 프로그래밍 입문 CAMP (2/17 ~)\n",
      "스타트업 개발자 취업/이직을 위한 알고리즘 CAMP (2/22~)\n",
      "스타트업 프론트엔드 실전 CAMP (3/2~)\n",
      "스타트업 업무자동화를 위한 파이썬 입문 CAMP (3/2~)\n",
      "스타트업 안드로이드 앱 개발 입문 CAMP (3/7~)\n",
      "마케팅 프론트엔드 디자인 CAMP (3/8~)\n",
      "마케팅 반응형 웹 디자인 CAMP (3/13~)\n",
      "마케팅 UNITY5 게임 제작 CAMP (3/19~)\n",
      "마케팅 하이브리드 앱 개발 CAMP (3/29~)\n",
      "마케팅 개발자 역량 강화를 위한 고급 알고리즘 CAMP (3/29~)\n",
      "마케팅 Node.js 로 시작하는 웹 프로그래밍 CAMP (3/30~)\n",
      "마케팅 VR 콘텐츠 제작 CAMP (4/2~)\n",
      "마케팅 소프트웨어 테스팅 CLASS (11/17~18)\n",
      "마케팅 iOS 개발 중급 CAMP (11/25~)\n",
      "마케팅 웹 서비스 개발 CAMP (1/30~)\n",
      "마케팅 iOS 개발 입문 CAMP (1/31~)\n",
      "마케팅 파이썬으로 시작하는 웹 프로그래밍 CAMP (2/3~)\n",
      "마케팅 프론트엔드 프로그래밍 입문 CAMP (2/17 ~)\n",
      "마케팅 개발자 취업/이직을 위한 알고리즘 CAMP (2/22~)\n",
      "마케팅 프론트엔드 실전 CAMP (3/2~)\n",
      "마케팅 업무자동화를 위한 파이썬 입문 CAMP (3/2~)\n",
      "마케팅 안드로이드 앱 개발 입문 CAMP (3/7~)\n",
      "파이낸스 프론트엔드 디자인 CAMP (3/8~)\n",
      "파이낸스 반응형 웹 디자인 CAMP (3/13~)\n",
      "파이낸스 UNITY5 게임 제작 CAMP (3/19~)\n",
      "파이낸스 하이브리드 앱 개발 CAMP (3/29~)\n",
      "파이낸스 개발자 역량 강화를 위한 고급 알고리즘 CAMP (3/29~)\n",
      "파이낸스 Node.js 로 시작하는 웹 프로그래밍 CAMP (3/30~)\n",
      "파이낸스 VR 콘텐츠 제작 CAMP (4/2~)\n",
      "파이낸스 소프트웨어 테스팅 CLASS (11/17~18)\n",
      "파이낸스 iOS 개발 중급 CAMP (11/25~)\n",
      "파이낸스 웹 서비스 개발 CAMP (1/30~)\n",
      "파이낸스 iOS 개발 입문 CAMP (1/31~)\n",
      "파이낸스 파이썬으로 시작하는 웹 프로그래밍 CAMP (2/3~)\n",
      "파이낸스 프론트엔드 프로그래밍 입문 CAMP (2/17 ~)\n",
      "파이낸스 개발자 취업/이직을 위한 알고리즘 CAMP (2/22~)\n",
      "파이낸스 프론트엔드 실전 CAMP (3/2~)\n",
      "파이낸스 업무자동화를 위한 파이썬 입문 CAMP (3/2~)\n",
      "파이낸스 안드로이드 앱 개발 입문 CAMP (3/7~)\n",
      "LANGUAGE 프론트엔드 디자인 CAMP (3/8~)\n",
      "LANGUAGE 반응형 웹 디자인 CAMP (3/13~)\n",
      "LANGUAGE UNITY5 게임 제작 CAMP (3/19~)\n",
      "LANGUAGE 하이브리드 앱 개발 CAMP (3/29~)\n",
      "LANGUAGE 개발자 역량 강화를 위한 고급 알고리즘 CAMP (3/29~)\n",
      "LANGUAGE Node.js 로 시작하는 웹 프로그래밍 CAMP (3/30~)\n",
      "LANGUAGE VR 콘텐츠 제작 CAMP (4/2~)\n",
      "LANGUAGE 소프트웨어 테스팅 CLASS (11/17~18)\n",
      "LANGUAGE iOS 개발 중급 CAMP (11/25~)\n",
      "LANGUAGE 웹 서비스 개발 CAMP (1/30~)\n",
      "LANGUAGE iOS 개발 입문 CAMP (1/31~)\n",
      "LANGUAGE 파이썬으로 시작하는 웹 프로그래밍 CAMP (2/3~)\n",
      "LANGUAGE 프론트엔드 프로그래밍 입문 CAMP (2/17 ~)\n",
      "LANGUAGE 개발자 취업/이직을 위한 알고리즘 CAMP (2/22~)\n",
      "LANGUAGE 프론트엔드 실전 CAMP (3/2~)\n",
      "LANGUAGE 업무자동화를 위한 파이썬 입문 CAMP (3/2~)\n",
      "LANGUAGE 안드로이드 앱 개발 입문 CAMP (3/7~)\n"
     ]
    }
   ],
   "source": [
    "# 카테고리 + 코스 합치기\n",
    "for category_element in category_elements[3:]:\n",
    "    category_name = category_element.find_element_by_css_selector(\n",
    "        \".vc_custom_heading\").text\n",
    "    \n",
    "    for course_element in course_elements:\n",
    "        course_name = course_element.text\n",
    "        \n",
    "        print(category_name, course_name)"
   ]
  },
  {
   "cell_type": "code",
   "execution_count": 36,
   "metadata": {
    "collapsed": true
   },
   "outputs": [],
   "source": [
    "driver.quit()"
   ]
  },
  {
   "cell_type": "code",
   "execution_count": null,
   "metadata": {
    "collapsed": true
   },
   "outputs": [],
   "source": []
  },
  {
   "cell_type": "markdown",
   "metadata": {},
   "source": [
    "### 완성 코드"
   ]
  },
  {
   "cell_type": "code",
   "execution_count": 38,
   "metadata": {
    "collapsed": false,
    "scrolled": true
   },
   "outputs": [
    {
     "name": "stdout",
     "output_type": "stream",
     "text": [
      "프로그래밍 프론트엔드 디자인 CAMP (3/8~)\n",
      "프로그래밍 반응형 웹 디자인 CAMP (3/13~)\n",
      "프로그래밍 UNITY5 게임 제작 CAMP (3/19~)\n",
      "프로그래밍 하이브리드 앱 개발 CAMP (3/29~)\n",
      "프로그래밍 개발자 역량 강화를 위한 고급 알고리즘 CAMP (3/29~)\n",
      "프로그래밍 Node.js 로 시작하는 웹 프로그래밍 CAMP (3/30~)\n",
      "프로그래밍 VR 콘텐츠 제작 CAMP (4/2~)\n",
      "프로그래밍 소프트웨어 테스팅 CLASS (11/17~18)\n",
      "프로그래밍 iOS 개발 중급 CAMP (11/25~)\n",
      "프로그래밍 웹 서비스 개발 CAMP (1/30~)\n",
      "프로그래밍 iOS 개발 입문 CAMP (1/31~)\n",
      "프로그래밍 파이썬으로 시작하는 웹 프로그래밍 CAMP (2/3~)\n",
      "프로그래밍 프론트엔드 프로그래밍 입문 CAMP (2/17 ~)\n",
      "프로그래밍 개발자 취업/이직을 위한 알고리즘 CAMP (2/22~)\n",
      "프로그래밍 프론트엔드 실전 CAMP (3/2~)\n",
      "프로그래밍 업무자동화를 위한 파이썬 입문 CAMP (3/2~)\n",
      "프로그래밍 안드로이드 앱 개발 입문 CAMP (3/7~)\n",
      "데이터 사이언스 데이터 분석 입문 CAMP (3/12~)\n",
      "데이터 사이언스 온라인 서비스 적용을 위한 머신러닝 CAMP (3/19~)\n",
      "데이터 사이언스 데이터 분석을 위한 확률론 & 선형대수 CAMP (3/26~)\n",
      "데이터 사이언스 D3.js를 활용한 데이터 시각화 CAMP (3/27~)\n",
      "데이터 사이언스 파이썬을 활용한 데이터분석 CAMP (3/27~)\n",
      "데이터 사이언스 머신러닝 입문 CAMP (4/5~)\n",
      "데이터 사이언스 데이터 시각화 CAMP (2/14~)\n",
      "데이터 사이언스 텍스트마이닝 CAMP (1/14~)\n",
      "데이터 사이언스 데이터 분석가로의 성장을 위한 코스들\n",
      "크리에이티브 UX디자인 입문 CLASS (3/12, 3/19)\n",
      "크리에이티브 디자이너를 위한 포트폴리오 CLASS (3/19~)\n",
      "크리에이티브 모션 인포그래픽스 CAMP (3/26~)\n",
      "크리에이티브 UX디자인 CAMP (4/6~)\n",
      "크리에이티브 픽토그램 브랜딩 CLASS (10/3, 10, 11)\n",
      "크리에이티브 모바일 앱디자인 CAMP (2/2~)\n",
      "크리에이티브 스케치를 활용한 프로토타이핑 CLASS (2/13~)\n",
      "크리에이티브 BX 디자인 CAMP (3/5~)\n",
      "비즈니스 전략기획 실전 CAMP (3/12~)\n",
      "비즈니스 온라인을 활용한 영업전략 CAMP (3/26~)\n",
      "비즈니스 중소기업-스타트업을 위한 HR CLASS (3/26~)\n",
      "비즈니스 M&A 입문 CAMP (3/27~)\n",
      "비즈니스 엑셀로 시작하는 데이터 분석 CAMP (3/28~)\n",
      "비즈니스 경영전략 CAMP (11/28~)\n",
      "비즈니스 FAST MBA CAMP (12/15~)\n",
      "비즈니스 M&A 실전 CAMP (1/31~)\n",
      "비즈니스 병원 경영&마케팅 WORKSHOP (2/13~14)\n",
      "비즈니스 내 사업 온라인으로 확장하기 CAMP (2/15~)\n",
      "비즈니스 스타 MD의 성장공식을 배우는 머천다이징 CAMP (3/6~)\n",
      "스타트업 하드웨어 창업 CAMP x N15 (3/13~)\n",
      "스타트업 외식경영 실전 전략 CAMP (3/19~)\n",
      "스타트업 쇼핑몰 성공사례 분석 CAMP (3/20~)\n",
      "스타트업 O2O 서비스 전략 분석 CAMP (3/22~)\n",
      "스타트업 스타트업 성장전략 & 문제해결 CAMP (준비 중)\n",
      "스타트업 스타트업 투자유치 & EXIT 전략 CAMP (1/3~)\n",
      "스타트업 스타트업 창업 CAMP x MARU180 (1/8~)\n",
      "스타트업 성장하는 스타트업을 위한 코스들\n",
      "마케팅 모바일 앱 마케팅 & 성과분석 CAMP (3/19~)\n",
      "마케팅 소셜미디어 콘텐츠 제작 CAMP (3/19~)\n",
      "마케팅 페이스북 마케팅 CLASS (3/24)\n",
      "마케팅 바이럴을 위한 디지털 프로모션 실전 CAMP (4/5~)\n",
      "마케팅 모바일 마케팅 CAMP (1/5~)\n",
      "마케팅 마케팅 전략 분석 CAMP (1/20~)\n",
      "마케팅 마케터를 위한 글쓰기 CAMP (2/15~)\n",
      "마케팅 디지털 마케팅 CAMP (2/25~)\n",
      "마케팅 마케터를 위한 데이터 분석 CAMP (3/3~)\n",
      "마케팅 디지털 마케팅 전문가로의 성장을 위한 코스들\n",
      "파이낸스 금융 데이터 분석 입문 CAMP (3/20~)\n",
      "파이낸스 재무분석 CAMP (2/1~)\n",
      "파이낸스 부동산 운용 전략 & 가치평가 CAMP (2/14~)\n",
      "파이낸스 Financial Modeling CAMP (2/16~)\n",
      "파이낸스 재무회계 원리 CAMP (2/28~)\n",
      "파이낸스 회계/경리/경영지원 실무역량 강화 CAMP (2/28~)\n",
      "파이낸스 금융 데이터 분석을 통한 투자 포트폴리오 만들기 CAMP (3/2~)\n",
      "파이낸스 재무분석 실전 CAMP (3/3~)\n",
      "파이낸스 밸류에이션 방법론 & 신사업 타당성 분석 CAMP (3/6~)\n",
      "파이낸스 금융권 취업/이직을 위한 파이낸스 커리어 완성 CAMP\n",
      "파이낸스 Finance 분야 전문가로의 성장을 위한 코스들\n",
      "LANGUAGE 서바이벌 영어 초급 (3/2~)\n",
      "LANGUAGE OFFICE 서바이벌 영어 중급 (3/2~)\n",
      "LANGUAGE TECH 뉴스로 배우는 영어 (3/3~)\n",
      "LANGUAGE MEDIA로 배우는 영어 (3/3~)\n",
      "LANGUAGE FINANCE 뉴스로 배우는 영어 (3/4~)\n",
      "LANGUAGE ENGLISH BOOTCAMP (준비 중)\n",
      "LANGUAGE 快速 중국어 초급 (준비 중)\n",
      "LANGUAGE 소셜 중국어 중급 (준비 중)\n",
      "LANGUAGE 비즈니스 중국어 고급 (준비 중)\n"
     ]
    }
   ],
   "source": [
    "from selenium import webdriver\n",
    "driver = webdriver.PhantomJS()\n",
    "driver.get(\"http://fastcampus.co.kr/course\")\n",
    "\n",
    "category_elements = driver.find_elements_by_css_selector(\n",
    "    \".wpb_row.vc_inner.vc_row.attched-false.vc_row-fluid\")\n",
    "\n",
    "for category_element in category_elements[3:]:\n",
    "    category_name = category_element.find_element_by_css_selector(\n",
    "        \".vc_custom_heading\").text\n",
    "    \n",
    "    course_elements = category_element.find_elements_by_css_selector(\n",
    "        \".vc_general.vc_btn3\")\n",
    "    for course_element in course_elements:\n",
    "        course_name = course_element.text\n",
    "        \n",
    "        print(category_name, course_name)\n",
    "        \n",
    "driver.quit()"
   ]
  },
  {
   "cell_type": "code",
   "execution_count": null,
   "metadata": {
    "collapsed": true
   },
   "outputs": [],
   "source": []
  }
 ],
 "metadata": {
  "kernelspec": {
   "display_name": "Python 2",
   "language": "python",
   "name": "python2"
  },
  "language_info": {
   "codemirror_mode": {
    "name": "ipython",
    "version": 2
   },
   "file_extension": ".py",
   "mimetype": "text/x-python",
   "name": "python",
   "nbconvert_exporter": "python",
   "pygments_lexer": "ipython2",
   "version": "2.7.11"
  }
 },
 "nbformat": 4,
 "nbformat_minor": 0
}
