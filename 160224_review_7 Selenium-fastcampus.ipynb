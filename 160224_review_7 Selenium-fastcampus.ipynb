{
 "cells": [
  {
   "cell_type": "markdown",
   "metadata": {},
   "source": [
    "### fastcampus 강의목록 크롤링하기"
   ]
  },
  {
   "cell_type": "code",
   "execution_count": 1,
   "metadata": {
    "collapsed": true
   },
   "outputs": [],
   "source": [
    "from selenium import webdriver"
   ]
  },
  {
   "cell_type": "code",
   "execution_count": 2,
   "metadata": {
    "collapsed": false,
    "scrolled": true
   },
   "outputs": [],
   "source": [
    "driver = webdriver.Firefox()"
   ]
  },
  {
   "cell_type": "code",
   "execution_count": 3,
   "metadata": {
    "collapsed": true
   },
   "outputs": [],
   "source": [
    "driver.get('http://fastcampus.co.kr/courses')"
   ]
  },
  {
   "cell_type": "code",
   "execution_count": 21,
   "metadata": {
    "collapsed": true
   },
   "outputs": [],
   "source": [
    "# 코스의 큰 카테고리가 wpb_row라는 클래스로 묶임\n",
    "# 한번 테스트로 이를 잡아보니 21개 객체가 나옴(허수도 존재함을 의미)\n",
    "# theme-content라는 클래스(전체)를 추가하니 그대로 21개임 => 더 하위객체를 찾을필요\n",
    "# class=\"wpb_row vc_inner vc_row    attched-false   vc_row-fluid\" 더 세부적인 내용\n",
    "# 찾으니 11개 객체가 나옴 (아직은 원하는 카테고리수8개보다 많음)\n",
    "category_elements = driver.find_elements_by_css_selector(\n",
    "    \"div.theme-content div.wpb_row.vc_inner.vc_row.attched-false.vc_row-fluid\")"
   ]
  },
  {
   "cell_type": "code",
   "execution_count": 22,
   "metadata": {
    "collapsed": false
   },
   "outputs": [
    {
     "data": {
      "text/plain": [
       "11"
      ]
     },
     "execution_count": 22,
     "metadata": {},
     "output_type": "execute_result"
    }
   ],
   "source": [
    "len(category_elements)"
   ]
  },
  {
   "cell_type": "code",
   "execution_count": 63,
   "metadata": {
    "collapsed": false
   },
   "outputs": [],
   "source": [
    "# 큰 카테고리(제목부분)\n",
    "# 일단 하나씩만 뽑아 확인해보자\n",
    "# 0, 1, 2 까지 오류가남// 11번이후 에러남\n",
    "#category_element = category_elements[10]\n",
    "\n",
    "category_elements = category_elements[3:10]"
   ]
  },
  {
   "cell_type": "code",
   "execution_count": 55,
   "metadata": {
    "collapsed": false
   },
   "outputs": [
    {
     "data": {
      "text/plain": [
       "<selenium.webdriver.remote.webelement.WebElement (session=\"2315338b-d192-46c1-a0fc-56ff46688ea4\", element=\"{c965b140-0059-462e-9d33-b2beec69d567}\")>"
      ]
     },
     "execution_count": 55,
     "metadata": {},
     "output_type": "execute_result"
    }
   ],
   "source": [
    "#\"vc_custom_heading vc_custom_1455884780090\"\n",
    "# category_element.find_element_by_css_selector(\".vc_custom_heading\")"
   ]
  },
  {
   "cell_type": "code",
   "execution_count": 64,
   "metadata": {
    "collapsed": true
   },
   "outputs": [],
   "source": [
    "for category_element in category_elements:\n",
    "    pass"
   ]
  },
  {
   "cell_type": "code",
   "execution_count": 65,
   "metadata": {
    "collapsed": true
   },
   "outputs": [],
   "source": [
    "category_element = category_elements[0]"
   ]
  },
  {
   "cell_type": "code",
   "execution_count": 66,
   "metadata": {
    "collapsed": false
   },
   "outputs": [],
   "source": [
    "heading_element = category_element.find_element_by_css_selector(\".vc_custom_heading\")"
   ]
  },
  {
   "cell_type": "code",
   "execution_count": 72,
   "metadata": {
    "collapsed": false
   },
   "outputs": [
    {
     "data": {
      "text/plain": [
       "u'\\ud504\\ub85c\\uadf8\\ub798\\ubc0d'"
      ]
     },
     "execution_count": 72,
     "metadata": {},
     "output_type": "execute_result"
    }
   ],
   "source": [
    "# heading_element.text 또는\n",
    "heading_element.get_attribute(\"innerHTML\")"
   ]
  },
  {
   "cell_type": "code",
   "execution_count": null,
   "metadata": {
    "collapsed": true
   },
   "outputs": [],
   "source": [
    "driver.quit()"
   ]
  },
  {
   "cell_type": "markdown",
   "metadata": {},
   "source": [
    "### class=\"vc_col-sm-12 wpb_column column_container  _ height-full\" 로 다시시작"
   ]
  },
  {
   "cell_type": "code",
   "execution_count": 2,
   "metadata": {
    "collapsed": true
   },
   "outputs": [],
   "source": [
    "driver = webdriver.Firefox()"
   ]
  },
  {
   "cell_type": "code",
   "execution_count": 3,
   "metadata": {
    "collapsed": true
   },
   "outputs": [],
   "source": [
    "driver.get('http://fastcampus.co.kr/courses')"
   ]
  },
  {
   "cell_type": "code",
   "execution_count": 4,
   "metadata": {
    "collapsed": true
   },
   "outputs": [],
   "source": [
    "category_elements = driver.find_elements_by_css_selector(\n",
    "    \".vc_col-sm-12.wpb_column.column_container.height-full\")"
   ]
  },
  {
   "cell_type": "code",
   "execution_count": 5,
   "metadata": {
    "collapsed": false
   },
   "outputs": [
    {
     "data": {
      "text/plain": [
       "10"
      ]
     },
     "execution_count": 5,
     "metadata": {},
     "output_type": "execute_result"
    }
   ],
   "source": [
    "len(category_elements)"
   ]
  },
  {
   "cell_type": "code",
   "execution_count": 96,
   "metadata": {
    "collapsed": false
   },
   "outputs": [],
   "source": [
    "category_element = category_elements[2]\n",
    "\n",
    "# 0 => '곧 개강하는 코스들' => 우리가 찾는 값이 x\n",
    "# 1 => 'ALL COURSES' => 우리가 찾는 값이 x\n",
    "# 2:9까지 우리가 원하는 값임"
   ]
  },
  {
   "cell_type": "code",
   "execution_count": 97,
   "metadata": {
    "collapsed": false
   },
   "outputs": [
    {
     "data": {
      "text/plain": [
       "u'\\ud504\\ub85c\\uadf8\\ub798\\ubc0d'"
      ]
     },
     "execution_count": 97,
     "metadata": {},
     "output_type": "execute_result"
    }
   ],
   "source": [
    "category_element.find_element_by_css_selector(\n",
    "    \".vc_custom_heading\").text"
   ]
  },
  {
   "cell_type": "code",
   "execution_count": 99,
   "metadata": {
    "collapsed": false
   },
   "outputs": [],
   "source": [
    "category_elements = category_elements[2:]\n",
    "\n",
    "# 이상한 데이터 잘라냄"
   ]
  },
  {
   "cell_type": "code",
   "execution_count": 100,
   "metadata": {
    "collapsed": false
   },
   "outputs": [
    {
     "data": {
      "text/plain": [
       "8"
      ]
     },
     "execution_count": 100,
     "metadata": {},
     "output_type": "execute_result"
    }
   ],
   "source": [
    "len(category_elements)"
   ]
  },
  {
   "cell_type": "code",
   "execution_count": 102,
   "metadata": {
    "collapsed": true
   },
   "outputs": [],
   "source": [
    "category_element = category_elements[0]"
   ]
  },
  {
   "cell_type": "code",
   "execution_count": 103,
   "metadata": {
    "collapsed": false
   },
   "outputs": [
    {
     "data": {
      "text/plain": [
       "u'\\ud504\\ub85c\\uadf8\\ub798\\ubc0d'"
      ]
     },
     "execution_count": 103,
     "metadata": {},
     "output_type": "execute_result"
    }
   ],
   "source": [
    "category_name = category_element.find_element_by_css_selector(\n",
    "    \".vc_custom_heading\").text\n",
    "category_name"
   ]
  },
  {
   "cell_type": "code",
   "execution_count": 104,
   "metadata": {
    "collapsed": true
   },
   "outputs": [],
   "source": [
    "course_elements = category_element.find_elements_by_css_selector(\n",
    "    \".vc_general\")"
   ]
  },
  {
   "cell_type": "code",
   "execution_count": 105,
   "metadata": {
    "collapsed": false
   },
   "outputs": [
    {
     "data": {
      "text/plain": [
       "17"
      ]
     },
     "execution_count": 105,
     "metadata": {},
     "output_type": "execute_result"
    }
   ],
   "source": [
    "len(course_elements)"
   ]
  },
  {
   "cell_type": "code",
   "execution_count": 106,
   "metadata": {
    "collapsed": false
   },
   "outputs": [
    {
     "name": "stdout",
     "output_type": "stream",
     "text": [
      "안드로이드 앱 개발 입문 CAMP (3/7~)\n",
      "프론트엔드 디자인 CAMP (3/8~)\n",
      "반응형 웹 디자인 CAMP (3/13~)\n",
      "UNITY5 게임 제작 CAMP (3/19~)\n",
      "하이브리드 앱 개발 CAMP (3/29~)\n",
      "개발자 역량 강화를 위한 고급 알고리즘 CAMP (3/29~)\n",
      "Node.js 로 시작하는 웹 프로그래밍 CAMP (3/30~)\n",
      "VR 콘텐츠 제작 CAMP (4/2~)\n",
      "소프트웨어 테스팅 CLASS (11/17~18)\n",
      "iOS 개발 중급 CAMP (11/25~)\n",
      "웹 서비스 개발 CAMP (1/30~)\n",
      "iOS 개발 입문 CAMP (1/31~)\n",
      "파이썬으로 시작하는 웹 프로그래밍 CAMP (2/3~)\n",
      "프론트엔드 프로그래밍 입문 CAMP (2/17 ~)\n",
      "개발자 취업/이직을 위한 알고리즘 CAMP (2/22~)\n",
      "프론트엔드 실전 CAMP (3/2~)\n",
      "업무자동화를 위한 파이썬 입문 CAMP (3/2~)\n"
     ]
    }
   ],
   "source": [
    "for course_element in course_elements:\n",
    "    course_name = course_element.text\n",
    "    print(course_name)"
   ]
  },
  {
   "cell_type": "code",
   "execution_count": 107,
   "metadata": {
    "collapsed": false
   },
   "outputs": [
    {
     "name": "stdout",
     "output_type": "stream",
     "text": [
      "프로그래밍 안드로이드 앱 개발 입문 CAMP (3/7~)\n",
      "프로그래밍 프론트엔드 디자인 CAMP (3/8~)\n",
      "프로그래밍 반응형 웹 디자인 CAMP (3/13~)\n",
      "프로그래밍 UNITY5 게임 제작 CAMP (3/19~)\n",
      "프로그래밍 하이브리드 앱 개발 CAMP (3/29~)\n",
      "프로그래밍 개발자 역량 강화를 위한 고급 알고리즘 CAMP (3/29~)\n",
      "프로그래밍 Node.js 로 시작하는 웹 프로그래밍 CAMP (3/30~)\n",
      "프로그래밍 VR 콘텐츠 제작 CAMP (4/2~)\n",
      "프로그래밍 소프트웨어 테스팅 CLASS (11/17~18)\n",
      "프로그래밍 iOS 개발 중급 CAMP (11/25~)\n",
      "프로그래밍 웹 서비스 개발 CAMP (1/30~)\n",
      "프로그래밍 iOS 개발 입문 CAMP (1/31~)\n",
      "프로그래밍 파이썬으로 시작하는 웹 프로그래밍 CAMP (2/3~)\n",
      "프로그래밍 프론트엔드 프로그래밍 입문 CAMP (2/17 ~)\n",
      "프로그래밍 개발자 취업/이직을 위한 알고리즘 CAMP (2/22~)\n",
      "프로그래밍 프론트엔드 실전 CAMP (3/2~)\n",
      "프로그래밍 업무자동화를 위한 파이썬 입문 CAMP (3/2~)\n",
      "데이터 사이언스 안드로이드 앱 개발 입문 CAMP (3/7~)\n",
      "데이터 사이언스 프론트엔드 디자인 CAMP (3/8~)\n",
      "데이터 사이언스 반응형 웹 디자인 CAMP (3/13~)\n",
      "데이터 사이언스 UNITY5 게임 제작 CAMP (3/19~)\n",
      "데이터 사이언스 하이브리드 앱 개발 CAMP (3/29~)\n",
      "데이터 사이언스 개발자 역량 강화를 위한 고급 알고리즘 CAMP (3/29~)\n",
      "데이터 사이언스 Node.js 로 시작하는 웹 프로그래밍 CAMP (3/30~)\n",
      "데이터 사이언스 VR 콘텐츠 제작 CAMP (4/2~)\n",
      "데이터 사이언스 소프트웨어 테스팅 CLASS (11/17~18)\n",
      "데이터 사이언스 iOS 개발 중급 CAMP (11/25~)\n",
      "데이터 사이언스 웹 서비스 개발 CAMP (1/30~)\n",
      "데이터 사이언스 iOS 개발 입문 CAMP (1/31~)\n",
      "데이터 사이언스 파이썬으로 시작하는 웹 프로그래밍 CAMP (2/3~)\n",
      "데이터 사이언스 프론트엔드 프로그래밍 입문 CAMP (2/17 ~)\n",
      "데이터 사이언스 개발자 취업/이직을 위한 알고리즘 CAMP (2/22~)\n",
      "데이터 사이언스 프론트엔드 실전 CAMP (3/2~)\n",
      "데이터 사이언스 업무자동화를 위한 파이썬 입문 CAMP (3/2~)\n",
      "크리에이티브 안드로이드 앱 개발 입문 CAMP (3/7~)\n",
      "크리에이티브 프론트엔드 디자인 CAMP (3/8~)\n",
      "크리에이티브 반응형 웹 디자인 CAMP (3/13~)\n",
      "크리에이티브 UNITY5 게임 제작 CAMP (3/19~)\n",
      "크리에이티브 하이브리드 앱 개발 CAMP (3/29~)\n",
      "크리에이티브 개발자 역량 강화를 위한 고급 알고리즘 CAMP (3/29~)\n",
      "크리에이티브 Node.js 로 시작하는 웹 프로그래밍 CAMP (3/30~)\n",
      "크리에이티브 VR 콘텐츠 제작 CAMP (4/2~)\n",
      "크리에이티브 소프트웨어 테스팅 CLASS (11/17~18)\n",
      "크리에이티브 iOS 개발 중급 CAMP (11/25~)\n",
      "크리에이티브 웹 서비스 개발 CAMP (1/30~)\n",
      "크리에이티브 iOS 개발 입문 CAMP (1/31~)\n",
      "크리에이티브 파이썬으로 시작하는 웹 프로그래밍 CAMP (2/3~)\n",
      "크리에이티브 프론트엔드 프로그래밍 입문 CAMP (2/17 ~)\n",
      "크리에이티브 개발자 취업/이직을 위한 알고리즘 CAMP (2/22~)\n",
      "크리에이티브 프론트엔드 실전 CAMP (3/2~)\n",
      "크리에이티브 업무자동화를 위한 파이썬 입문 CAMP (3/2~)\n",
      "비즈니스 안드로이드 앱 개발 입문 CAMP (3/7~)\n",
      "비즈니스 프론트엔드 디자인 CAMP (3/8~)\n",
      "비즈니스 반응형 웹 디자인 CAMP (3/13~)\n",
      "비즈니스 UNITY5 게임 제작 CAMP (3/19~)\n",
      "비즈니스 하이브리드 앱 개발 CAMP (3/29~)\n",
      "비즈니스 개발자 역량 강화를 위한 고급 알고리즘 CAMP (3/29~)\n",
      "비즈니스 Node.js 로 시작하는 웹 프로그래밍 CAMP (3/30~)\n",
      "비즈니스 VR 콘텐츠 제작 CAMP (4/2~)\n",
      "비즈니스 소프트웨어 테스팅 CLASS (11/17~18)\n",
      "비즈니스 iOS 개발 중급 CAMP (11/25~)\n",
      "비즈니스 웹 서비스 개발 CAMP (1/30~)\n",
      "비즈니스 iOS 개발 입문 CAMP (1/31~)\n",
      "비즈니스 파이썬으로 시작하는 웹 프로그래밍 CAMP (2/3~)\n",
      "비즈니스 프론트엔드 프로그래밍 입문 CAMP (2/17 ~)\n",
      "비즈니스 개발자 취업/이직을 위한 알고리즘 CAMP (2/22~)\n",
      "비즈니스 프론트엔드 실전 CAMP (3/2~)\n",
      "비즈니스 업무자동화를 위한 파이썬 입문 CAMP (3/2~)\n",
      "스타트업 안드로이드 앱 개발 입문 CAMP (3/7~)\n",
      "스타트업 프론트엔드 디자인 CAMP (3/8~)\n",
      "스타트업 반응형 웹 디자인 CAMP (3/13~)\n",
      "스타트업 UNITY5 게임 제작 CAMP (3/19~)\n",
      "스타트업 하이브리드 앱 개발 CAMP (3/29~)\n",
      "스타트업 개발자 역량 강화를 위한 고급 알고리즘 CAMP (3/29~)\n",
      "스타트업 Node.js 로 시작하는 웹 프로그래밍 CAMP (3/30~)\n",
      "스타트업 VR 콘텐츠 제작 CAMP (4/2~)\n",
      "스타트업 소프트웨어 테스팅 CLASS (11/17~18)\n",
      "스타트업 iOS 개발 중급 CAMP (11/25~)\n",
      "스타트업 웹 서비스 개발 CAMP (1/30~)\n",
      "스타트업 iOS 개발 입문 CAMP (1/31~)\n",
      "스타트업 파이썬으로 시작하는 웹 프로그래밍 CAMP (2/3~)\n",
      "스타트업 프론트엔드 프로그래밍 입문 CAMP (2/17 ~)\n",
      "스타트업 개발자 취업/이직을 위한 알고리즘 CAMP (2/22~)\n",
      "스타트업 프론트엔드 실전 CAMP (3/2~)\n",
      "스타트업 업무자동화를 위한 파이썬 입문 CAMP (3/2~)\n",
      "마케팅 안드로이드 앱 개발 입문 CAMP (3/7~)\n",
      "마케팅 프론트엔드 디자인 CAMP (3/8~)\n",
      "마케팅 반응형 웹 디자인 CAMP (3/13~)\n",
      "마케팅 UNITY5 게임 제작 CAMP (3/19~)\n",
      "마케팅 하이브리드 앱 개발 CAMP (3/29~)\n",
      "마케팅 개발자 역량 강화를 위한 고급 알고리즘 CAMP (3/29~)\n",
      "마케팅 Node.js 로 시작하는 웹 프로그래밍 CAMP (3/30~)\n",
      "마케팅 VR 콘텐츠 제작 CAMP (4/2~)\n",
      "마케팅 소프트웨어 테스팅 CLASS (11/17~18)\n",
      "마케팅 iOS 개발 중급 CAMP (11/25~)\n",
      "마케팅 웹 서비스 개발 CAMP (1/30~)\n",
      "마케팅 iOS 개발 입문 CAMP (1/31~)\n",
      "마케팅 파이썬으로 시작하는 웹 프로그래밍 CAMP (2/3~)\n",
      "마케팅 프론트엔드 프로그래밍 입문 CAMP (2/17 ~)\n",
      "마케팅 개발자 취업/이직을 위한 알고리즘 CAMP (2/22~)\n",
      "마케팅 프론트엔드 실전 CAMP (3/2~)\n",
      "마케팅 업무자동화를 위한 파이썬 입문 CAMP (3/2~)\n",
      "파이낸스 안드로이드 앱 개발 입문 CAMP (3/7~)\n",
      "파이낸스 프론트엔드 디자인 CAMP (3/8~)\n",
      "파이낸스 반응형 웹 디자인 CAMP (3/13~)\n",
      "파이낸스 UNITY5 게임 제작 CAMP (3/19~)\n",
      "파이낸스 하이브리드 앱 개발 CAMP (3/29~)\n",
      "파이낸스 개발자 역량 강화를 위한 고급 알고리즘 CAMP (3/29~)\n",
      "파이낸스 Node.js 로 시작하는 웹 프로그래밍 CAMP (3/30~)\n",
      "파이낸스 VR 콘텐츠 제작 CAMP (4/2~)\n",
      "파이낸스 소프트웨어 테스팅 CLASS (11/17~18)\n",
      "파이낸스 iOS 개발 중급 CAMP (11/25~)\n",
      "파이낸스 웹 서비스 개발 CAMP (1/30~)\n",
      "파이낸스 iOS 개발 입문 CAMP (1/31~)\n",
      "파이낸스 파이썬으로 시작하는 웹 프로그래밍 CAMP (2/3~)\n",
      "파이낸스 프론트엔드 프로그래밍 입문 CAMP (2/17 ~)\n",
      "파이낸스 개발자 취업/이직을 위한 알고리즘 CAMP (2/22~)\n",
      "파이낸스 프론트엔드 실전 CAMP (3/2~)\n",
      "파이낸스 업무자동화를 위한 파이썬 입문 CAMP (3/2~)\n",
      "LANGUAGE 안드로이드 앱 개발 입문 CAMP (3/7~)\n",
      "LANGUAGE 프론트엔드 디자인 CAMP (3/8~)\n",
      "LANGUAGE 반응형 웹 디자인 CAMP (3/13~)\n",
      "LANGUAGE UNITY5 게임 제작 CAMP (3/19~)\n",
      "LANGUAGE 하이브리드 앱 개발 CAMP (3/29~)\n",
      "LANGUAGE 개발자 역량 강화를 위한 고급 알고리즘 CAMP (3/29~)\n",
      "LANGUAGE Node.js 로 시작하는 웹 프로그래밍 CAMP (3/30~)\n",
      "LANGUAGE VR 콘텐츠 제작 CAMP (4/2~)\n",
      "LANGUAGE 소프트웨어 테스팅 CLASS (11/17~18)\n",
      "LANGUAGE iOS 개발 중급 CAMP (11/25~)\n",
      "LANGUAGE 웹 서비스 개발 CAMP (1/30~)\n",
      "LANGUAGE iOS 개발 입문 CAMP (1/31~)\n",
      "LANGUAGE 파이썬으로 시작하는 웹 프로그래밍 CAMP (2/3~)\n",
      "LANGUAGE 프론트엔드 프로그래밍 입문 CAMP (2/17 ~)\n",
      "LANGUAGE 개발자 취업/이직을 위한 알고리즘 CAMP (2/22~)\n",
      "LANGUAGE 프론트엔드 실전 CAMP (3/2~)\n",
      "LANGUAGE 업무자동화를 위한 파이썬 입문 CAMP (3/2~)\n"
     ]
    }
   ],
   "source": [
    "for category_element in category_elements:\n",
    "    category_name = category_element.find_element_by_css_selector(\n",
    "    \".vc_custom_heading\").text\n",
    "    \n",
    "    for course_element in course_elements:\n",
    "        course_name = course_element.text\n",
    "        print(category_name, course_name)"
   ]
  },
  {
   "cell_type": "code",
   "execution_count": 6,
   "metadata": {
    "collapsed": true
   },
   "outputs": [],
   "source": [
    "driver.quit()"
   ]
  },
  {
   "cell_type": "code",
   "execution_count": null,
   "metadata": {
    "collapsed": true
   },
   "outputs": [],
   "source": []
  }
 ],
 "metadata": {
  "kernelspec": {
   "display_name": "Python 2",
   "language": "python",
   "name": "python2"
  },
  "language_info": {
   "codemirror_mode": {
    "name": "ipython",
    "version": 2
   },
   "file_extension": ".py",
   "mimetype": "text/x-python",
   "name": "python",
   "nbconvert_exporter": "python",
   "pygments_lexer": "ipython2",
   "version": "2.7.11"
  }
 },
 "nbformat": 4,
 "nbformat_minor": 0
}
